{
 "cells": [
  {
   "cell_type": "markdown",
   "metadata": {
    "slideshow": {
     "slide_type": "slide"
    }
   },
   "source": [
    "# MNIST digits classification with TensorFlow"
   ]
  },
  {
   "cell_type": "markdown",
   "metadata": {},
   "source": [
    "<img src=\"images/mnist_sample.png\" style=\"width:30%\">"
   ]
  },
  {
   "cell_type": "code",
   "execution_count": 2,
   "metadata": {},
   "outputs": [
    {
     "name": "stdout",
     "output_type": "stream",
     "text": [
      "We're using TF 1.2.1\n"
     ]
    }
   ],
   "source": [
    "import numpy as np\n",
    "from sklearn.metrics import accuracy_score\n",
    "from matplotlib import pyplot as plt\n",
    "%matplotlib inline\n",
    "import tensorflow as tf\n",
    "print(\"We're using TF\", tf.__version__)"
   ]
  },
  {
   "cell_type": "code",
   "execution_count": 3,
   "metadata": {},
   "outputs": [
    {
     "name": "stderr",
     "output_type": "stream",
     "text": [
      "Using TensorFlow backend.\n"
     ]
    }
   ],
   "source": [
    "import sys\n",
    "sys.path.append(\"../..\")\n",
    "import grading\n",
    "\n",
    "import matplotlib_utils\n",
    "from importlib import reload\n",
    "reload(matplotlib_utils)\n",
    "\n",
    "import grading_utils\n",
    "reload(grading_utils)\n",
    "\n",
    "import keras_utils\n",
    "from keras_utils import reset_tf_session"
   ]
  },
  {
   "cell_type": "markdown",
   "metadata": {},
   "source": [
    "# Fill in your Coursera token and email\n",
    "To successfully submit your answers to our grader, please fill in your Coursera submission token and email"
   ]
  },
  {
   "cell_type": "code",
   "execution_count": 4,
   "metadata": {
    "collapsed": true
   },
   "outputs": [],
   "source": [
    "grader = grading.Grader(assignment_key=\"XtD7ho3TEeiHQBLWejjYAA\", \n",
    "                        all_parts=[\"9XaAS\", \"vmogZ\", \"RMv95\", \"i8bgs\", \"rE763\"])"
   ]
  },
  {
   "cell_type": "code",
   "execution_count": 61,
   "metadata": {
    "collapsed": true
   },
   "outputs": [],
   "source": [
    "# token expires every 30 min\n",
    "COURSERA_TOKEN = \"yNPIBJy407y79ZTN\"\n",
    "COURSERA_EMAIL = \"suchato_paloch@hotmail.com\""
   ]
  },
  {
   "cell_type": "markdown",
   "metadata": {},
   "source": [
    "# Look at the data\n",
    "\n",
    "In this task we have 50000 28x28 images of digits from 0 to 9.\n",
    "We will train a classifier on this data."
   ]
  },
  {
   "cell_type": "code",
   "execution_count": 6,
   "metadata": {
    "collapsed": true
   },
   "outputs": [],
   "source": [
    "import preprocessed_mnist\n",
    "X_train, y_train, X_val, y_val, X_test, y_test = preprocessed_mnist.load_dataset_from_file()"
   ]
  },
  {
   "cell_type": "code",
   "execution_count": 7,
   "metadata": {},
   "outputs": [
    {
     "name": "stdout",
     "output_type": "stream",
     "text": [
      "X_train [shape (50000, 28, 28)] sample patch:\n",
      " [[ 0.          0.29803922  0.96470588  0.98823529  0.43921569]\n",
      " [ 0.          0.33333333  0.98823529  0.90196078  0.09803922]\n",
      " [ 0.          0.33333333  0.98823529  0.8745098   0.        ]\n",
      " [ 0.          0.33333333  0.98823529  0.56862745  0.        ]\n",
      " [ 0.          0.3372549   0.99215686  0.88235294  0.        ]]\n",
      "A closeup of a sample patch:\n"
     ]
    },
    {
     "data": {
      "image/png": "[encoded data removed]",
      "text/plain": [
       "<matplotlib.figure.Figure at 0x7f7cd1b86d30>"
      ]
     },
     "metadata": {},
     "output_type": "display_data"
    },
    {
     "name": "stdout",
     "output_type": "stream",
     "text": [
      "And the whole sample:\n"
     ]
    },
    {
     "data": {
      "image/png": "[encoded data removed]",
      "text/plain": [
       "<matplotlib.figure.Figure at 0x7f7cd1b6a240>"
      ]
     },
     "metadata": {},
     "output_type": "display_data"
    },
    {
     "name": "stdout",
     "output_type": "stream",
     "text": [
      "y_train [shape (50000,)] 10 samples:\n",
      " [5 0 4 1 9 2 1 3 1 4]\n"
     ]
    }
   ],
   "source": [
    "# X contains rgb values divided by 255\n",
    "print(\"X_train [shape %s] sample patch:\\n\" % (str(X_train.shape)), X_train[1, 15:20, 5:10])\n",
    "print(\"A closeup of a sample patch:\")\n",
    "plt.imshow(X_train[1, 15:20, 5:10], cmap=\"Greys\")\n",
    "plt.show()\n",
    "print(\"And the whole sample:\")\n",
    "plt.imshow(X_train[1], cmap=\"Greys\")\n",
    "plt.show()\n",
    "print(\"y_train [shape %s] 10 samples:\\n\" % (str(y_train.shape)), y_train[:10])"
   ]
  },
  {
   "cell_type": "markdown",
   "metadata": {},
   "source": [
    "# Linear model\n",
    "\n",
    "Your task is to train a linear classifier $\\vec{x} \\rightarrow y$ with SGD using TensorFlow.\n",
    "\n",
    "You will need to calculate a logit (a linear transformation) $z_k$ for each class: \n",
    "$$z_k = \\vec{x} \\cdot \\vec{w_k} + b_k \\quad k = 0..9$$\n",
    "\n",
    "And transform logits $z_k$ to valid probabilities $p_k$ with softmax: \n",
    "$$p_k = \\frac{e^{z_k}}{\\sum_{i=0}^{9}{e^{z_i}}} \\quad k = 0..9$$\n",
    "\n",
    "We will use a cross-entropy loss to train our multi-class classifier:\n",
    "$$\\text{cross-entropy}(y, p) = -\\sum_{k=0}^{9}{\\log(p_k)[y = k]}$$ \n",
    "\n",
    "where \n",
    "$$\n",
    "[x]=\\begin{cases}\n",
    "       1, \\quad \\text{if $x$ is true} \\\\\n",
    "       0, \\quad \\text{otherwise}\n",
    "    \\end{cases}\n",
    "$$\n",
    "\n",
    "Cross-entropy minimization pushes $p_k$ close to 1 when $y = k$, which is what we want.\n",
    "\n",
    "Here's the plan:\n",
    "* Flatten the images (28x28 -> 784) with `X_train.reshape((X_train.shape[0], -1))` to simplify our linear model implementation\n",
    "* Use a matrix placeholder for flattened `X_train`\n",
    "* Convert `y_train` to one-hot encoded vectors that are needed for cross-entropy\n",
    "* Use a shared variable `W` for all weights (a column $\\vec{w_k}$ per class) and `b` for all biases.\n",
    "* Aim for ~0.93 validation accuracy"
   ]
  },
  {
   "cell_type": "code",
   "execution_count": 8,
   "metadata": {},
   "outputs": [
    {
     "name": "stdout",
     "output_type": "stream",
     "text": [
      "(50000, 784)\n",
      "(10000, 784)\n"
     ]
    }
   ],
   "source": [
    "X_train_flat = X_train.reshape((X_train.shape[0], -1))\n",
    "print(X_train_flat.shape)\n",
    "\n",
    "X_val_flat = X_val.reshape((X_val.shape[0], -1))\n",
    "print(X_val_flat.shape)"
   ]
  },
  {
   "cell_type": "code",
   "execution_count": 9,
   "metadata": {},
   "outputs": [
    {
     "name": "stdout",
     "output_type": "stream",
     "text": [
      "(50000, 10)\n",
      "[[ 0.  0.  0.  0.  0.  1.  0.  0.  0.  0.]\n",
      " [ 1.  0.  0.  0.  0.  0.  0.  0.  0.  0.]\n",
      " [ 0.  0.  0.  0.  1.  0.  0.  0.  0.  0.]] [5 0 4]\n"
     ]
    }
   ],
   "source": [
    "import keras\n",
    "\n",
    "y_train_oh = keras.utils.to_categorical(y_train, 10)\n",
    "y_val_oh = keras.utils.to_categorical(y_val, 10)\n",
    "\n",
    "print(y_train_oh.shape)\n",
    "print(y_train_oh[:3], y_train[:3])"
   ]
  },
  {
   "cell_type": "code",
   "execution_count": 49,
   "metadata": {
    "collapsed": true
   },
   "outputs": [],
   "source": [
    "# run this again if you remake your graph\n",
    "s = reset_tf_session()"
   ]
  },
  {
   "cell_type": "code",
   "execution_count": 50,
   "metadata": {
    "collapsed": true
   },
   "outputs": [],
   "source": [
    "# Model parameters: W and b\n",
    "W = tf.get_variable(\"W\",shape=(784,10),dtype=tf.float32)### YOUR CODE HERE ### tf.get_variable(...) with shape[0] = 784\n",
    "b = tf.get_variable(\"b\",shape=(10,),dtype=tf.float32)### YOUR CODE HERE ### tf.get_variable(...)"
   ]
  },
  {
   "cell_type": "code",
   "execution_count": 51,
   "metadata": {
    "collapsed": true
   },
   "outputs": [],
   "source": [
    "# Placeholders for the input data\n",
    "input_X = tf.placeholder(tf.float32,shape=(None,784),name = \"input_X\")### YOUR CODE HERE ### tf.placeholder(...) for flat X with shape[0] = None for any batch size\n",
    "input_y = tf.placeholder(tf.float32,shape=(None,10),name = \"input_y\")### YOUR CODE HERE ### tf.placeholder(...) for one-hot encoded true labels"
   ]
  },
  {
   "cell_type": "code",
   "execution_count": 52,
   "metadata": {
    "collapsed": true
   },
   "outputs": [],
   "source": [
    "# Compute predictions\n",
    "logits = (input_X @ W) + b### YOUR CODE HERE ### logits for input_X, resulting shape should be [input_X.shape[0], 10]\n",
    "probas = tf.nn.softmax(logits)### YOUR CODE HERE ### apply tf.nn.softmax to logits\n",
    "classes = tf.argmax(probas, axis = 1)### YOUR CODE HERE ### apply tf.argmax to find a class index with highest probability\n",
    "\n",
    "# Loss should be a scalar number: average loss over all the objects with tf.reduce_mean().\n",
    "# Use tf.nn.softmax_cross_entropy_with_logits on top of one-hot encoded input_y and logits.\n",
    "# It is identical to calculating cross-entropy on top of probas, but is more numerically friendly (read the docs).\n",
    "loss = tf.reduce_mean(tf.nn.softmax_cross_entropy_with_logits(labels=input_y,logits=logits))### YOUR CODE HERE ### cross-entropy loss\n",
    "\n",
    "# Use a default tf.train.AdamOptimizer to get an SGD step\n",
    "step = tf.train.AdamOptimizer().minimize(loss)### YOUR CODE HERE ### optimizer step that minimizes the loss"
   ]
  },
  {
   "cell_type": "code",
   "execution_count": 58,
   "metadata": {
    "scrolled": false
   },
   "outputs": [
    {
     "data": {
      "text/html": [
       "<img src=\"data:image/jpeg;base64,/9j/4AAQSkZJRgABAQAAAQABAAD/2wBDAAIBAQEBAQIBAQECAgICAgQDAgICAgUEBAMEBgUGBgYFBgYGBwkIBgcJBwYGCAsICQoKCgoKBggLDAsKDAkKCgr/2wBDAQICAgICAgUDAwUKBwYHCgoKCgoKCgoKCgoKCgoKCgoKCgoKCgoKCgoKCgoKCgoKCgoKCgoKCgoKCgoKCgoKCgr/wAARCAEgA2ADASIAAhEBAxEB/8QAHwAAAQUBAQEBAQEAAAAAAAAAAAECAwQFBgcICQoL/8QAtRAAAgEDAwIEAwUFBAQAAAF9AQIDAAQRBRIhMUEGE1FhByJxFDKBkaEII0KxwRVS0fAkM2JyggkKFhcYGRolJicoKSo0NTY3ODk6Q0RFRkdISUpTVFVWV1hZWmNkZWZnaGlqc3R1dnd4eXqDhIWGh4iJipKTlJWWl5iZmqKjpKWmp6ipqrKztLW2t7i5usLDxMXGx8jJytLT1NXW19jZ2uHi4%2BTl5ufo6erx8vP09fb3%2BPn6/8QAHwEAAwEBAQEBAQEBAQAAAAAAAAECAwQFBgcICQoL/8QAtREAAgECBAQDBAcFBAQAAQJ3AAECAxEEBSExBhJBUQdhcRMiMoEIFEKRobHBCSMzUvAVYnLRChYkNOEl8RcYGRomJygpKjU2Nzg5OkNERUZHSElKU1RVVldYWVpjZGVmZ2hpanN0dXZ3eHl6goOEhYaHiImKkpOUlZaXmJmaoqOkpaanqKmqsrO0tba3uLm6wsPExcbHyMnK0tPU1dbX2Nna4uPk5ebn6Onq8vP09fb3%2BPn6/9oADAMBAAIRAxEAPwD9/KKKKACiiigAooooAKKKKACiiigAooooAKKKKACiiigAooooAKKKKACiiigAooooAKKKKACiiigAooooAKKKKACiiigAooooAKKKKACiiigAooooAKKKKACiiigAooooAKKKKACiiigAooooAKKKKACiiigAooooAKKKKACiiigAooooAKKKKACiiigAooooAKKKKACiiigAooooAKKKKACiiigAooooAKKKKACiiigAooooAKKKKACiiigAooooAKKKKACiiigAooooAKKKKACiiigAooooAKKKKACiiigAooooAKKKKACiiigAooooAKKKKACiiigAooooAKKKKACiiigAooooAKKKKACvPfjt%2B1J8FP2b5NGsfil4g1Maj4ilnTQNB8OeF9R1zVNR8lVed4bHTbee5kjiVkMkixlI96biu5c%2BhV4N%2B0P8D/j5/wANJ%2BDv2tv2bLLwfrWueH/B2seFNX8KeOdcutLtLywv7mwuxcQXtraXj288U2noCpt3WVJSCUKK1ABpf/BTL9izWLvxPb2nxXv0h8FWsk/jLUrvwXrEFjoIS0iu9l5dy2iwWsrQzRskMjrJIWKorMrKL2n/APBQ/wDZK1HwBrXxFTx/q9vB4f1ay0vVdE1DwNrNrrkV5ebfscC6PNaLqEr3AYGER27eaAxTcFYjy2b9gH4y%2BMf2a/jn8NfGHinwppHin4o/FS38daHc6U1xeWFpeW0OiywQ3IkihkkiN3pRRwoyYHGDuJVaPi79i/8AaV%2BLmr/Ef45fG34S/CjWvFnjWx8KaPp/gKy%2BI2s2Wm6fY6Hcaldw3qa7b6al5DqDXOqTOksVoPJSKNFZiWcgHsviH9vv9mzwv4a8OeI9XvvG3meK0v5NE8P2vwm8SXGuSRWUscV3NJpMWntf28MLzQq8s0CIpmiy37xM%2Bmaz8RPBHhv4e3XxX8T%2BJbbSvDljo76rf6vqrfZYbSySIzPPMZdvlKsYLNvxtAOcYNfGHin9hH9s/WPgX4X8Nay3hfxV470a58RHRfGV/wDHbxNpGr%2BCLW%2BuUktLO11q1sJLzXIYkjhEy3qw/aTbReYCFGPUfjR/wTotfj1%2Bzb4n%2BHHxD%2BOfjW78d%2BMPhfH4Z17xS3jbWho818tpDE2oJoS3y2FuzzQLK3kRRSEPIBIrSM5AOkg/4KUfsZf8K58V/FbWPite6Jo3giysr7xQ/ifwdq%2Bk3NlZXkxhtb37LeWsVxJaSyK6pcxxtC3luQ%2BEYjj/AI3f8FZP2d/hn8ENU%2BMfgPRfFXiqbQfiD4X8L674Y/4QXXbHU7A6zqVrax3T2cmnNdeV5Fw88DeT5d48aW8MhknjB8r1T/gmJ8ZPHfwq8faR4i8DeG9G8Y%2BI9D0fR7DxDqv7RfjPxut3aWusW%2BoTRyf27AfsEZ8likUSzHe%2BGkxknv8A9qH9gz40/GD4g/F/4g%2BBfEPheOTxfB8LbzwlZ6tfXMSvf%2BE/EdzrUsN40dvJ5ENwGt4VljEzrl2MfyKrgHqFh/wUE/Zb1H4m2XwZh8T%2BJo/Fd5oun6xLoF38N9egudO0%2B9adILu/SSyU6dDut5VeS68pYiFEhQum6j4a/wCCmH7FPi3wZ4s%2BIWkfGC4TR/Bfgi68Zaxe6h4S1W0Fx4et0Z5tWsVntUbVLNVQ4nsxPGxZArEugbB0P9kP4ofEP4mfG74g/G9fD2gxfGj4O%2BHfCF1Y%2BE9duNRl0u4tE11Ltlnns7XzYwNViMT7FZikm6OPA3fN37Y37Kn7UOj/ALDHxS%2BJv7TF34AtIfhD%2BxT8QfBHhePwFqF5cNrzXukWxn1G6W5toBYqE0i3CWcbXAVppCZ22oKAPrPw9/wUl/Yy8TaHrHiPT/i1dQWehppU1/JqnhLVbJmtNSu1s7HUIUuLVGubCWdgovoQ9qoDO0qorMPT9E%2BLvw88R/FLX/gvofiH7T4k8LaXp%2Boa/YR2k22zgvmuBa7pinlF3%2ByzHy1cyKoRmVVkjLfJOofsz%2BIPFegeKfjb/wAFIvF/wz8J%2BBbf9nu5%2BHUlx4f8QTLay6beyQyXmq3k17BbpYOTBbCG2QzCAmT/AEiQsuOw/wCCPngP4u2f7I9r8f8A9pDUDf8AxJ%2BL15H4n8V6g9nJbtJCLSCy01fKl%2BeH/iX2lpI0TYKSzTZAYtkA%2BqqKKKACiiigAooooAKKKKACiiigAooooAKKKKACiiigAooooAKKKKACiiigAooooAKKKKACiiigAooooAKKKKACiiigAooooAK8R0j/AIKMfse6ld69Z6n8Urzw83hzw5c%2BINQk8a%2BEdV0GObSbd0jnv7WTUrWBb63R5IlaW2MqAyxjOXXPtN7FczWcsNndCCZ4mWKYx7/LYjhtp64POO9fmJq//BHL9uX4v6t4X1z43fHHQ31vw14P1Cz1DxRqHxW8TeJx4h1v7ZpV9a6idLvoobLSbaS50xfPsLIBRHJtWWQKgUA%2B2X/b/wD2YbX4aN8WNY8QeKtK0ttcg0axs9c%2BGWv2GqanfzIZIYLLTbixS9v2kQM6/Z4ZAyo7AkIxHReA/wBqz4H/ABH1%2By8J%2BHPEOqQ6vf8AhSfxJDpGteFdS0y7TTYbv7JLLLDeW8UkDrP8hhkVZe%2BzbzXk3xO%2BDn7bvxib4e/G3XPBvwq0P4h/Cjx1NrHh/wAM2vjjUr/Rdcs7jSbvTLmO4vn0qGaxmKXskkbpa3AjMQU%2BYJGxV%2BJPwG/bg1/4y%2BHf2mvA%2BjfCu08WX3ww1XwX4x0LUvFepSWGkLcX8N1a39lcJpwk1AxCN1kt5YrQSlxiWLHIB3Gk/wDBRv8AZA8R694F8LeFfiNqus6n8SfBuleLfBunaJ4H1m9nvND1F9lrqMiQWjNa2%2B7HmSTiNbcMpm8oMCdj4a/tufs3fFf4jXPwn8M%2BL9Ws9ft9LudThsvE/gzVtEW/sbeRI57uyl1G1gjv4I3liDy2zSIvmISQGUnyj9hT9hL4sfsw6/8ADjWfHniDw1dnwd%2Byl4R%2BGN%2B%2BkXM8rNq2lvM1zNF5kEe61bemxmKu235o0wK8a%2BGn/BKv9sbxP8UfC/ib9qb4w2eqRaf4A8V%2BF/GniaD4v%2BJNavPEUur2KW39p2umX0Men6EcqWNpaKUXKgTOI1WgD6l8J/8ABRf9kfxrosfirQfHeuf2Hcarpen6f4lvfh/rdrpWoy6lex2VlJaX09mlteQS3M0UYuIJHhBlQs4VgT6X4W%2BLvw88a/EDxT8LvC/iH7XrnguSzj8T2iWkwWxkuoPtEEZlZBG7tCVkKIzMiyRlgokTd8w%2BOPAnxF8K/wDBPbxp8CP%2BChnif4VeCPAWg/DSLQLb4meHfFt2GadI0trXUntLqzgTTZlmFvJDBHcXTGcoiOTtDdr/AMEr/h98WPDf7ImlfFX9oqwS3%2BJ3xYvpfHXxEhW3aL7Pf36xmG02N8yfZbGOys9pyQLXBoA%2BjaKKKACiiigAooooAKKKKACiiigAooooAKKKKACiiigAooooAKKKKACiiigAooooAKKKKACiiigAooooAKKKKACiiigAooooAKK5b42%2BCLH4jfCjXfBupa/r2lwXdiS994Z1%2B60u%2Bj2ESDyrq0kjmhJKBS0bqxUsMjNeQ/s2%2BI9G8Zf8EsPhn45/aB%2BLWsadZXnwP8P6r4y8aS%2BLLiwvVT%2Byrae6u5dRSRZ4nbDs84kWT5mO4E5oA%2Bh68X%2BPXj/9ov8A4aL8C/Aj4C%2BM/BXh9Nf8FeJde1fU/F/gu71ok6dd6Hbwwwx2%2BpWPlhv7UlZmZnz5aABeSaf/AAT%2B0/4hR/CTW/Efim48Wp4b17xfc6j8NNK8e6td32t6d4deC3SBLya9d7kvLPHdXaR3DtNDFeRQybWiKLz%2BtfEzxBqv/BVL4feBta%2BEuv6FZ2vwZ8fDTNe1W5097bWyNW8HktarbXcsyKg%2B99pigb5l2hvm2ptLcuEJVHaPZv7tWdd/wg//AAUL/wCjoPgz/wCGH1b/AOaij/hB/wDgoX/0dB8Gf/DD6t/81FezUUyDxn/hB/8AgoX/ANHQfBn/AMMPq3/zUUf8IP8A8FC/%2BjoPgz/4YfVv/mor2aigDxn/AIQf/goX/wBHQfBn/wAMPq3/AM1FH/CD/wDBQv8A6Og%2BDP8A4YfVv/mor2aigDxn/hB/%2BChf/R0HwZ/8MPq3/wA1FH/CD/8ABQv/AKOg%2BDP/AIYfVv8A5qK9mooA8Z/4Qf8A4KF/9HQfBn/ww%2Brf/NRR/wAIP/wUL/6Og%2BDP/hh9W/8Amor2aigDxn/hB/8AgoX/ANHQfBn/AMMPq3/zUUf8IP8A8FC/%2BjoPgz/4YfVv/mor2aigDxn/AIQf/goX/wBHQfBn/wAMPq3/AM1FH/CD/wDBQv8A6Og%2BDP8A4YfVv/mor2avPviB4/8AgZ8NBqfjD4%2B%2BOPCnh/TzrUWn2WpeMNUtrSDzDaRyrBHJcsq7yBK%2B0HJCsccHEznCnFym0kurdl97sjbD4fEYuvGjQhKc5OyjFOUm%2ByjFSk3o9Em9Njmv%2BEH/AOChf/R0HwZ/8MPq3/zUUf8ACD/8FC/%2BjoPgz/4YfVv/AJqKr/8ADX//AATg/wCjovgj/wCFto//AMdo/wCGv/8AgnB/0dF8Ef8AwttH/wDjtc31/Af8/of%2BBw/%2BSPa/1S4s/wChdiP/AAnr/wDygsf8IP8A8FC/%2BjoPgz/4YfVv/moo/wCEH/4KF/8AR0HwZ/8ADD6t/wDNRXYfDTxJ%2Bzl8aNCl8U/B3X/BPizTLe7a1n1Hw1dWd/BHOqq7RNJAWUOFdGKk5AdTjBFeT/EH9tn9k74Q/Gv4ifCL4seB9Q0O0%2BGngbTvFPiHxbJ8P7%2B40qKyuRfMxa5gtHij8tLInLP%2B8Z2jj3PDKq9MJwqRUoNNPqndfero8XEYfEYSvKjXhKE4uzjJOMk%2BzjJRknqtGk9djqP%2BEH/4KF/9HQfBn/ww%2Brf/ADUUf8IP/wAFC/8Ao6D4M/8Ahh9W/wDmoqJv2m/2ULabw3HrHhPXtKh8V3ENvpF/rnwf1uwtFmmvXsreO5ubiwSGyea4UJEtw8TS%2BbCyBlmiZ%2BZ139un9inwFaE/Emaxt7tr3xWsNr4b8D6trBFn4f1U6bqN1KLfTd8KQStEJmZfKQuxSWaJRO1GJ1f/AAg//BQv/o6D4M/%2BGH1b/wCaij/hB/8AgoX/ANHQfBn/AMMPq3/zUV32gR/BjxXcT2nhePwxqM1tDBNcw2K28rwxzp5kLuq5KiRPmUnG5eRkV4f%2Bz9%2B1Vonxo%2BKWjeF9c/Zu0TQ/DHjnTdd1D4Z%2BJIdVS7n1a30q9htZjd2ptIxYtMk8dzAqS3G6EP5hhdRGQDsv%2BEH/AOChf/R0HwZ/8MPq3/zUUf8ACD/8FC/%2BjoPgz/4YfVv/AJqK43xZ%2B1Vonhr48aj4Ht/2btDufAnh74iaL4D8T%2BNW1VI7y01/VbSzuLRItP8AshWe1zqWmwvOblGWS6IETiJ2rb%2BEPxX8W/EnX/jB4C1j9lnwlpfiT4a6nHa6Fp9t4nW5g10T6el5aNNObCP7Ez%2BYiOoScR5JDSYxQBr/APCD/wDBQv8A6Og%2BDP8A4YfVv/moo/4Qf/goX/0dB8Gf/DD6t/8ANRXlGt/t1eH/AAt%2ByB4R/aW8afs%2BeA/D1/4l8d3vhXU4fEXjRLPw34euLa71G2e6vtafTsw2rvp5jjka0Bae7toiq%2BZuGn4d/a5vPFHhP4E/EnTf2S/DqeGvjDraaVqOoXPiNVm0iaSG6lgmtIhYEajbSratIkzPbbopYn25YoAD0T/hB/8AgoX/ANHQfBn/AMMPq3/zUUf8IP8A8FC/%2BjoPgz/4YfVv/morg4/2w/Bkf7Qq/DPVvgN4YsvCM/xTf4c2niafXYv7Tk8QLpR1IA6Z9kwtq6KY1l%2B0mUsyP5AibzQ39mL9rXR/2u/CniLx18EPhF8JdXsYdFXUfCGl2vxLgm1i5SbLWR1azj09hoy3EW2Zf3ly6o2GQMCgAO%2B/4Qf/AIKF/wDR0HwZ/wDDD6t/81FH/CD/APBQv/o6D4M/%2BGH1b/5qK840H9r258YfA34QeM/Cn7LXhA%2BNvi9q95puneGtW8Vi20nT5rS2vbm48zUl055ZB5djJ5YS03uWGVRVd1wrP/go/wDBPx0nw40/4TfD/wCGA1Px34XttcuoPiF8QLXQbe0We7ls4rK1mSzujqN5Jc216kccSLGy2bsZV3xhwD2T/hB/%2BChf/R0HwZ/8MPq3/wA1FH/CD/8ABQv/AKOg%2BDP/AIYfVv8A5qK8z0v9uTwFqn7ch/Y2i%2BBfhDzl8UT6I8Q8SxHxHAkWkHUv7Yl0Y2Y8vR3IFsl79pO6aWJfLy/Dv2Nf24/hb%2B0n%2By9qP7WnxE8F/CXw94b0/wANWes3dp4L8fDxNfaUJbZriW01GFdNtTaXaL5aCBDM7uzKMFV3gHpX/CD/APBQv/o6D4M/%2BGH1b/5qKP8AhB/%2BChf/AEdB8Gf/AAw%2Brf8AzUV5Gn7a/iy7/Yxj/a0tv2IPD1pdaf8AEDU/Dvi/whrHjCKGbR4bLXrjR5J1ni0%2BVbifzIVfyAqoC7L55CiRvVfix8Srv4YftLfC/wCDw/Z38M33hX4j6leaW3i1tZWK70/UINL1HUhGLD7GyzRGLTyplNxGVaZcI4U0AT/8IP8A8FC/%2BjoPgz/4YfVv/moo/wCEH/4KF/8AR0HwZ/8ADD6t/wDNRXI63%2B1p8PLX9r6//Ze8OfAPTtS0/Svh/ruuah4xE8UcK6ppjaUZtIjh8hjIwh1e1kefeFjZxGFdxIIsX9m39rcftIfsfX37VXh74Z/s/wAYg0e01NbSz%2BM4u9M0yF4I7m7TVtQXRV/s2W2hdmdPJmGUIZkHzAA9I/4Qf/goX/0dB8Gf/DD6t/8ANRVDwP44/as8HftWeHPgj8bviP8AD3xNo3ib4e%2BIdchm8K/Dy%2B0W6tLrTb7RLdFZ7jV75JY3TVJSVCIwaJCGxkF37Nfxj8H/ALTn7Mcnx50P4d6Lo8pl1a3tLvQL5L%2Bxumsrme3W%2B0%2B%2BWGE3dnMYRLDOI4/MR1O0Vd8cf8pC/hf/ANkZ8ef%2BnbwhQB7NRRRQAVwv7RP7SPwh/ZT%2BGs/xe%2BOOt6lpvh61l2Xd9pvhu/1RrcCN5GkkisYJpEiVI3Z5WURoFJZlFd1XhX/BS3wz8VPiD%2Bw18S/hP8Fvg7rPjfxJ4y8IajoOl6RouoabatFLdWssazyyajd20SwqxUNtdpPmG1G5wAenfF74x/Dz4E%2BCpPiB8TdZns9OS7t7SJbLTLm%2Burq5nlWGC3t7W1jknuZpJHVViiR3YngGvP8AxR/wUF/ZI8G%2BBtA%2BJGvfFC4XSPElnf3ljNa%2BF9TuJba1sZVhv7m9hhtml06C0ldYrmW7WFLaRgkzRtxWD%2B0RafGj4v8Ag7wH8TfC37N/ii31f4ffEDSvFE3gjV9W0VL3VYDbXVrc2sMkWoSWouIEu2lAlnjieSFVWXB3jwGf9lj9rjwN4b17xxoP7PEviHV/il4Q%2BIml33hWPxHpkR8JXWveIJtU083ck1ysUtuIrllvGtGuHWWIGGO4VtwAP0CR0kQSRuGVhlWByCPWvnL4TeKv27/jro%2BveO/C/wAb/hJoGl2/xC8VaHpelX/wf1S/uIrXS9ev9MhaW4TxFAssjx2auzLFGu5yAoAFewaP8M9Y0b4I6b8I9I%2BI%2Bq6Te6d4etdMi8UaTBateRNDEkfnxpdwzwljsziSORfmPB615J%2Bw5o9/on7KV74c1fxRf63PF8afHFpe6vqSQJc6hnx5q0cksotooog8gLFhHHGmWIVVGAADo/8AhB/%2BChf/AEdB8Gf/AAw%2Brf8AzUUf8IP/AMFC/wDo6D4M/wDhh9W/%2Bain6/8AtQf8E/fCmu3vhbxT%2B0R8HNN1PTbuS11HTtQ8XaVDPazxsUkikjeUMjqwKsrAEEEEZFVP%2BGv/APgnB/0dF8Ef/C20f/47XK8dgU7OrD/wOP8A8ke9DhXimpBThl%2BIaaTTVCu009U01QaaaaaabTTTTaaZY/4Qf/goX/0dB8Gf/DD6t/8ANRR/wg//AAUL/wCjoPgz/wCGH1b/AOain6B%2B1B/wT98V67ZeFvC37RHwc1LU9Su47XTtO0/xbpU091PIwSOKONJSzuzEKqqCSSABk1e/ar%2BJfwq/ZQ/Zv8a/tJeKfhcuraf4K8PXGq3Wm6RogmuLlYlzsRY42IycZcjai5dyqqzDWlXoV03TmpW7NP8AJs8/HZXmeVzjDG4epScldKpCdNtbXSnCDavpdJq%2Bl76Gd/wg/wDwUL/6Og%2BDP/hh9W/%2Baij/AIQf/goX/wBHQfBn/wAMPq3/AM1FUNJ/az/Y/wBc8by/DXS/DWvy%2BIbbw4uvahov/CmtdW60%2BweO7eKW6jbTw1q0v2G5WKOYJJM8YjjV3dFZ2mftOfsweJpPDv8AwiumWCHWfHU3hW9sPEvhLUdH1Gxvo9GutXMLWVzYCZJTa26zKtwtvG8MnmLKzGKObU4S7/wg/wDwUL/6Og%2BDP/hh9W/%2Baij/AIQf/goX/wBHQfBn/wAMPq3/AM1FUPgp%2B1/%2Bwv8AtBaNN4j%2BG3ibS/7Oi8P6frqX/iLwjd6LBc6XfMy2t7BJqNtAtzbyOpQSxF1D4QkMQKu/tG/ERvhXr/g/4afCD4AeGvF3jPxte3iaVpetaqukWMFrZ2rXFzcz3SWd06AfuYlVYXLSXEediB3UAd/wg/8AwUL/AOjoPgz/AOGH1b/5qKP%2BEH/4KF/9HQfBn/ww%2Brf/ADUVz2v/ALUnwtg/Yt8Nftf%2BE/gpZXg8Xjw7b6N4d1QwWfkX%2BsX9pp8EF3ciORbeOK5vEWaVVk2rHIUWQ7VbirX9txfEV9ZfCzwT%2BzN4CvPiUni7xBoHiLRr7xyttoWnT6Pa293c7NUGmvJOzQXlo6Rm0jb5pvM8oQOaAPVv%2BEH/AOChf/R0HwZ/8MPq3/zUUf8ACD/8FC/%2BjoPgz/4YfVv/AJqK8u8W/tjavd/B/wCE/wC0Z8C/2WvAPinwT8XJPC0GgjVvGsmnayJ9ZmiUotpFpFzBIttBI1xI32lfkt58AbAW1Ph5%2B2N4L8Y/HbS/hxrnwH8L6T4b8U%2BPvFHgvwdrX9vRTapeaxoH2w3oudN%2ByKLW3ZNPvJIpluJSyLAzpH56YAO9/wCEH/4KF/8AR0HwZ/8ADD6t/wDNRR/wg/8AwUL/AOjoPgz/AOGH1b/5qKwv2Sf2lfh9%2B1n40%2BIek6F8DNP0rQvCWpWKeGdemeKU%2BJdPurcyxaisQhXyIZNrND88nmwtFLlDJ5a%2B3eDBs0MwKTshvruKIE52olzIqr9AoAHsKAPLv%2BEH/wCChf8A0dB8Gf8Aww%2Brf/NRR/wg/wDwUL/6Og%2BDP/hh9W/%2BaivZqKAPGf8AhB/%2BChf/AEdB8Gf/AAw%2Brf8AzUUf8IP/AMFC/wDo6D4M/wDhh9W/%2BaivZqKAPGf%2BEH/4KF/9HQfBn/ww%2Brf/ADUUf8IP/wAFC/8Ao6D4M/8Ahh9W/wDmor2aigDxn/hB/wDgoX/0dB8Gf/DD6t/81FH/AAg//BQv/o6D4M/%2BGH1b/wCaivZqKAPGf%2BEH/wCChf8A0dB8Gf8Aww%2Brf/NRR/wg/wDwUL/6Og%2BDP/hh9W/%2BaivZqKAPGf8AhB/%2BChf/AEdB8Gf/AAw%2Brf8AzUUf8IP/AMFC/wDo6D4M/wDhh9W/%2BaivZqKAPGf%2BEH/4KF/9HQfBn/ww%2Brf/ADUUf8IP/wAFC/8Ao6D4M/8Ahh9W/wDmor2aigDxn/hB/wDgoX/0dB8Gf/DD6t/81FH/AAg//BQv/o6D4M/%2BGH1b/wCaivZqKAPGf%2BEH/wCChf8A0dB8Gf8Aww%2Brf/NRR/wg/wDwUL/6Og%2BDP/hh9W/%2BaivZqq61ruieG9Nk1nxFrFrYWcIzNdXtwsUaD1LMQB%2BNJtJXZUITqSUYq7eyWrfold/geR/8IP8A8FC/%2BjoPgz/4YfVv/moo/wCEH/4KF/8AR0HwZ/8ADD6t/wDNRVHx3/wU2/4J/fDeWS38Uftc%2BCDLCSJYdM1lL91I6gra%2BYc%2B2M15/L/wWg/Y/wBfka3%2BCXh/4lfE6YEqIPAXw5v7hmb0HnpCD%2BdedUzjKaUuWVeF%2Bykm/ujzP8D7PBeG/iBmFL2tDKsRyfzSpThD5zqqlBfOSPTv%2BEH/AOChf/R0HwZ/8MPq3/zUUf8ACD/8FC/%2BjoPgz/4YfVv/AJqK8xH/AAUS/ai14ed4D/4JUfFy4ifmE%2BIbyy0pyO25JGYofY0f8Nk/8FNb3nSP%2BCQd2VP3Wvvjho0Bx7qYyfwrP%2B2sC/h536U6j/8AbDr/AOIZcVR/ivD032njcFF/c8Sz07/hB/8AgoX/ANHQfBn/AMMPq3/zUVb/AGVviN8afGGsfFDwJ8dNf8L6tqngH4hRaHZ6r4T8NXOk291ay6Do%2Bpqz29xe3jLIsmoyoWEu0rGh2qc58m/4aQ/4K26xxp3/AATY8KaPnodW%2BMVncAfXyIxXQ/8ABOvV/jLrut/HnVv2gvCOj6D4vm%2BM0H9raToN%2B11aW%2BPCPhsRBJWAL5hEbN6MzDtXRhsfSxU3GEJrS95QlFffJLXyPHzvhLH5DhY18RiMPO75eWliaNaezd3GlKVo6ayva7S6n0nRRRXcfLhRRRQAUUUUAFFFFABRRRQAUUUUAFFFFABRRRQAUUUUAFFFFAGN8Qfh18Pvi14Ovvh38VPAmjeJvD%2BqRrHqWheINLivbO7QMHCywzKySAMqsAwPKg9RXHaT%2Bxl%2Bx9oHw%2BufhJoX7KPw1svCl5ZNZ3nhm08C6fHp89s0wmaF7ZYRG0ZlVZChXBdQ2MjNelUUAcx8KPgn8GvgP4dm8H/A74SeGPBmk3F615caX4U0G3062luGREaZo7dEVpCkcalyMkIozgCvBv2gdY/sz/grL%2BzVZb8f2h8L/iZb49cS%2BF5cf%2BQv0r6gr42/bD1c6X/wWN/YyhLYS98M/FC3Y5/6cNGcD80Fc2Mn7OjzecfxlFfqe5w7h/reZ%2By/6d1n/wCA0K0v/bT7JooorpPDCiiigAooooAKKKKACiiigAooooAK4nxX8IvhP8aINX8LfGL4YeHfFmmW/iCK6g07xNosF/BHOtlCiyrHOjKHCu6hgMgOwzgmu2ryf47/ALVvwC/Y%2B8Naj8S/2i/Hv/CO6JfeK4dMtb3%2By7q733T6ekqx7LWKRxlIZTuKhflxnJAOOInh6dCUq7SglrzWtbzvpb1GsfLKn9bjWdJ09edScHHpdSUouO%2B6kt99RP8Ahgf9hX/oyz4S/wDhudM/%2BMUf8MD/ALCv/Rlnwl/8Nzpn/wAYryT/AIfm/wDBLL/o6L/yydc/%2BQqP%2BH5v/BLL/o6L/wAsnXP/AJCrxfr3Cv8Az8of%2BU/8jT/iKWJ/6Hs//Cyr/wDNB9JfDT4RfCf4L6FL4W%2BDvww8O%2BE9MuLtrqfTvDWiwWEEk7KqNK0cCKpcqiKWIyQijOAK8V/aV/YX8V/Hjxd8StT8P/GfTdC0f4q/C%2Bw8IeJdOvfCEl9cQtZS6nJbXdtOt7CqDOpyCSJ4pN4iTa8ZLE%2Bk/s0ftW/AL9sHwJd/Ev8AZ08e/wDCRaJY6vJpl1e/2XdWmy6SKKVo9l1FG5wk0R3BSvzYzkEDH%2BJX7Zfww%2BFfizxL4F8S6Drz6x4cl8MRx6fa2sDSat/b9%2B%2Bnae1pumUODdxTROXMezyXY/IAx9rDzw9ShGVBpwa05bWt5W0t6Gbx8s1f1uVZ1XU153Jzcul3Jyk5bbuT230PKv2vv%2BCY8v7Vnx6t/jLc/FLw7ZxQy%2BGJrePX/h2msalo8mj6sdQI0m9e7jGmpd5EVxthd3CghxgKNjw7/wAE7F0HXdV1s/F8Tf2noPxM03y/%2BEe2%2BV/wl3iKHWd%2BftBz9k8ryNvHn7t%2BYsbDzXx6/wCCsfw78HeG/j34G%2BGmlW8fxL%2BEfwl8W%2BL9J0zW9a0nULTUDosPzmaHS9SmurZPOltcw3S2kzpMdgyknl95q37eGg%2BH/iP4k%2BFOm/DrxX418S6f8QLnw/pfhnwno1nBdGG20TTNUurky3moJDLDEuowgys0Ds88cKQOyiSXYR6p8Gfh94j%2BFngTSPh3qfimy1Sw0Hw/p2mabJBpL20x%2Bz2ywySSsZ5FfeyBlVVTYDtJk%2B9Xjnwd/YV8c/B/xrZ%2BILL46aZqGmeCtC8Rab8ItGuvBjqNCGrXcVyzahIt8DqYtxBFbxLGLM%2BR5gdnkYTL2X7EH7SOqftPfsy/Dz4u%2BLNHNnrni3wDpviLUYrHRLy3sIzdITsikmDKGBVswmRpUBUuAGUnzvwT%2B2N8bNe%2BPOgy6tpvhYfDbxj8YvEnw20HT7fTbldas7/R7TVJX1Ge6a5MMsMs%2BiX8Qt1t0ZFlt3Mr/OoANzxR%2Bw34g8R/HS/8br8ZLaDwP4g%2BIWiePPFPgz/hGC13eeINKtLO3tZIb/7UFt7UnTdNmeA28jtJakiZRK4q/wDCX9nD9pf4b/Gz4t/FzVP2gvAupQ/EbZcaNplv8Lr23bRry3tYrSykmlOtSC8iSGIebEqW7SuSySQD5K5T9pr9sb42/Cv4p%2BMX%2BHmmeFm8G/CbRfDep%2BO7bWdNuZtR1iPVL64imjsZo7mOO0a2tbfzw0kVwJ5JRFiEKZDa8bfHb9rbwB%2B18/wmtvE3w68U%2BGIfh54g8Y6jpFv4Pu9J1DS7WCSODSrSXUptWmt2kuZnmBmNrGhSwuG2x8AAGV4A/YG/aH8HfB3wh4Lv/wBqTwhd%2BJvh/wDFHUvGfhXWrf4V3UOmyPfrqi3FrfWD6zI9yoOr3LRSR3MDRtFbkhyjeY/Wf2Afjlo3wr%2BFPw0%2BDf7SnhLSD8OfG134u1G88SfC%2B41JdV1S4mvZmWCK31e0WytFfULkJb5lKIIVEgEZ38f%2By9/wU1%2BJ3j3wP4v134naBpes6nYeG/Ct34O0jS/BWp%2BFrzVtZ1s3kcWkrZ6rPPNPAstvDs1ePFnMklwy/LZzsKnxE/4KVftD%2BCv%2BCdFn8bNK8KeC9V%2BMcvhvxHrV/p8NjdpoVnYaHczpe3zxG4NwIW8qC3jXztxuL2Ik7FkKgHtHjL9h6w%2BI/wC19o/7TfjW48Bm18OalFqOjxaR8NktvENzPFZPbxRX%2BtNdSNdWscksk6QJBDh0gDOwiYSc9%2Bzx/wAE%2BPFv7Nt/pd34G%2BMfh3yfAXwz1PwR8I7P/hX7xRaVp93dWlyr6t5eoBtXkjewtQGjNlkG4PDzs6898Zv%2BCiXi/wCD/wC1xP8ACXxJrXgzTNGtviT4V8I6b4K1DTLpvEfiS31tbCFdes7gXKxR2UF7qH2Z1NtIC1hODNG8kSV0eoftT/tIfD%2BX9pqHxjpvgjX7j4SeE08ReA7PTLebSEuoprG%2BuYbO/ubq7ljLZtY1e5UQRjex2ALmgCv4N/YP%2BM2ifsa6b%2Byl46%2BKfwe8ay6Vrz3Ntf8Ai74ETX2lvZMZJRHJps2ttuukuJWdbkThQgCeSTmQ4Xjf/gkp4eu/hvB8MPhZ8VbLRLTVfg/L8NfHmpa14Nj1K91bR5bia5lntHS4t49PvWnuryXzPLmhDzofI/coBZ/Zy/at/ad/aK8D%2BPE0z4kfD/QL3wVrdiZvGHjH4Ra5oca6bLpi3cxn8P6jqcF7bFHZQl1LcJDKgkdFIjO6v40/bH/avtP2EtC/bY8Pj4f6a/8Awi/22TwXq3hjUZ7jxnqElwYtPs9LlW9haxOo/uBbiWG6cNexBkbY24A662/YM8XW/wAdoPiA3x0s5fClh8T7r4gabocvhFm1iPWJ9Ll04xSaqbzElmqTORELZZdipCZzGpUg/wCCfj/Fnxb4g8b/ALYXxH0/xXeazoeiaTa2/wAOdI1LwbFaQ6XqL6laz%2Bbb6pPdtcJdsrpItwiRiMBYxuct1V98XfjhoH7fnh/4C6zd%2BFZ/AXi34XeIvEOkw22jXMesWV7pV94etmE10bpoJYpf7ZmIjW3Rk8hD5jbiK53wX8Yv2qZf2hfFX7Nfibxr8OtZ1G0%2BHh8QW2veHPBOoRweFbuW5MNnZ6jbvqUrX/noJpU8uS0dlsZvkQSIwAOSvv8AgmV4v8J/seeJf2TvgZ%2B0cNN/4Sv4l6r4o1TxD4/0vVvFLpb3esTamlnClxrMciSITbo85mYTtHPM8XnXLyDvfjN%2Bzf8AtP8AxT%2BI/wAHfiLpv7Q/gLTJfhlqZ1bWLWf4VXtyutajLpl7pt00JGtxmygaC%2BmaOJvtDxyKhaWVQUbxaL9vz9rHWfhVdar4Y0bT7m90n44R%2BEdX8Uw/ALxRPJDo50H%2B0Xv5vCqXn9rWTrdNHajzpdrxlLlV8uaOvQ/jr%2B1D8cvA/wCzp4Z/ah%2BDnxc%2BF/i3Q7rStLWLS4/B1%2Btx461S7uEhS00t11I/2c8zOEijljvGR2IkOI2JAL2n/wDBND4UeCf2n9G/ag%2BEfjTxTod9pOkeLkbQNQ8aa9qWmT6nr13Z3ct59kn1L7PHEs0FxJJaJEIp5LiOQ7HtoWGp4M/Zf/aO8J%2BMfHHxxb9oPwRJ8SPGOk6FpC6ja/Cy5g0O10/S5b6WNX0/%2B2GuJ53Oo3KtMb1QFWAKgEbCSP4k/FX9qbwf%2B2t8OPgv4d8c%2BANT8L%2BNp9X1LVdCfwFfR6tpOg6fZoJrr7eNWMMkh1C602AZtFXbdseTH82Z/wAE/f2p/i7%2B0Bb3%2Bl/tC%2BJ9E03xfFpcN/L8PY/hPrfhi/0mB5pY/NMmq3co1SAlFQXFtGkQcEFjuCgA7v4NfAnUf2fvgR4m8M6/41j1/Vta1PXPEGt6haaV9gtDeX00txKlra%2BbKbaAM%2BFQyyMTud3d3ZjT8cf8pC/hf/2Rnx5/6dvCFepeOf8AkSdY/wCwVcf%2Bi2ry3xx/ykL%2BF/8A2Rnx5/6dvCFAHs1FFFABRRRQAUUUUAFeC/sf/wDJvWr/APZe/HP/AKsDVa96rwX9j/8A5N61f/svfjn/ANWBqtAHWa/%2BxN%2Bxl4r1298U%2BKf2R/hjqWp6ldyXWo6jqHgHTpp7qeRi8kskjwlndmJZmYkkkknJqp/wwP8AsK/9GWfCX/w3Omf/ABivO/H/APwWU/4JufC/x3rfw08dftHfYdb8O6vc6ZrFl/wiGsS/Z7q3laKWPfHaMj7XRhuVipxkEjmsj/h%2Bb/wSy/6Oi/8ALJ1z/wCQq8GeN4YU2pTo3u739ne/W%2Bm973NP%2BIm4mh%2B6WeTjy6W%2Bt1Va2lrfWFa1rWsrWtZWsvZtA/Ym/Yy8Ka7ZeKfC37I/wx03U9Nu47rTtR0/wDp0M9rPGweOWORIQyOrAMrKQQQCDkVrftNfBOy/aT/Z08d/s96hr8ukw%2BN/COoaG%2BqwQCV7P7VbvCJghIDlC4baSA23GRnNeNeAf%2BCyn/BNz4oeO9F%2BGngX9o77drfiLV7bTNHsv%2BEQ1iL7RdXEqxRR75LRUTc7qNzMFGckgc17j8dfjD4c/Z9%2BD3iP43%2BMtM1G60bwrpUup6ymlQpJPFZxDdPMFd0DLHGHlYZztjbaGbCn0MDWy2tCTwcoNJ68nLa/nypa27ky4kqcSfvZ414nk0u6sqvLfW15VKlr72TV97dTyPxF%2BxN8QvH%2Bg/F2Xx78fbWLxJ8W/h3pvhm%2B1rwn4Vm02HTZLMaiFuYopL6eRkcX4DRGYHETYkHmDZw3wR/4JTRfCLxFD4mh%2BJPhCw2/FweOX0HwF8L49A0iBh4RvPDhs7a1S8lMIb7ULtpWeRmdGUj5w6ei/Gf/AIKIfB34LaX4u1zVPDep6hY%2BCvFtn4b1jUR4g0HSrR7%2B402LUQkNxq%2BpWcMmyCeAMA%2B/fMFRX2SFORtf%2BCjuk%2BKfH0d/4JuLS48Ba54M%2BEmu%2BEdVi0KSe8uv%2BEw8QatppWZHu4VjjEVnZlWALwNJM7Jc4WCu4k6v4G/sUeIfgFH4Eu/CPxcsrm/8DfA3Svh1by6h4Xdobv7HJAxvmjS7Vl3rCwEIc7C4PmNt2t1n7RvwC8cfFTxB4P8AiZ8H/ifp3hHxn4Jvbx9K1TWvDT6vYz2t5atb3NtPapdWruD%2B5lVlmQrJbx53oXRvMPBv/BRo/Ez9orwf4I8IfB/xNZeAfEfgrxZr9p4s1TQlnbxDDpNxp0Mc%2Blx2VzNOY3%2B1St5U9uk8waBoUIJz6T%2B1J8aPiB8PdG8C%2BFvg4mkQ%2BKPiT43t/Duhah4n0ue4stNzZXmoT3M9rHNbyzbbWwuAsQliJkZAWUZoAp%2BHf2WNY8Bfsu2v7K3gzxT4X1DQ9M8D2GhWP/Cd%2BCW1iO8nj3C7udQgW8gju47hNuYEEOxzI291dUTzuz/4JrxeG/2eX%2BC/hG9%2BEj3mreMpvEniOfxN8D4dR0ZLt4Et4jpmki/ij0428ENtFAXkuNqQfOJWdnPQ6V%2B118U3/YJ8a/tHv8O7LWPHHgX/AISvTL7RNHhuBZ6hqeh6lfabLNDGDJOtvLJZGcRAySrG%2BzLuMnk/gj%2B2Z8R/j14P%2BJmj%2BCv2mvhBdX/ww1Cyu9Q%2BKWl%2BBr2%2B8M6jo8%2Bnm6Zo7ZNZVklhkSeN5FvZox5ByodmjiAPSPCv7FHhPwVe/A3RPD/iu4/4RP4E6Bc2vh/QLy1Es17qB0%2BPTbXUZbjcBvis5NRQr5Z8x78vuTy9r8z4v/4J0%2BDPi5%2B0dffGz4zw%2BB7zTng1KOys/CngBtF1q7N7ps%2Blu2p6zHeST3pjsbu8hi8pLbZ9oL8siFeC8Z/tO/8ABQLTP%2BCeXgj9qnT/ABD8LdK8d%2BKNF0wQeDdX%2BGWpzx6lq%2Bs3sNvpFmuzXI3sv%2BPu1S4DG5KMJnBCrtr2Sf4t/Hjw5%2B3r4c%2BAXiTUfCN34H8WfCzxD4g05bHQrqHVrS/0m98PWz%2BZcNdvDJDL/bMxEawKyeTHmV8sKAK37Lf7Bvw7/ZM%2BLXjv4k/D7xr4svbTxla6VbW2jeIvGes6sumQ2Vv5IUSajfXHmFuCrbVMajy1O3ivYPB//IJm/wCwrff%2BlctalZfg/wD5BM3/AGFb7/0rloA1KKKKACiiigAorlPih8d/gn8ErAap8Yvi74a8LQFdySeINbgtN4/2RKwLH2GSa%2Bfdf/4LIfsg3Wpy%2BGfgTaeN/i3rUZ2nSvhr4Lu75t3bMkixxkf7SswxXFicyy/CPlrVYxfa%2Bv8A4Cry/wDJT6bJuC%2BLuIabq5bgKtWmt5qDVNebqS5KSXm6iS6n1bRXyKfjz/wVk%2BOw8r4N/se%2BD/hTpk3EWu/FfxOb26KH%2BNbKxG6Jx2WTIz14pY/%2BCdX7THxXJ1H9qn/gpZ8TtQkk5bR/hl5HhixQf88mEKu0y9tzbWPeub%2B1Ktb/AHbDzn5tKnH756v5QPc/1FwOXa53m%2BGw7/kpyli6vzjhk6af%2BLEH1drWv6F4bsjqXiLW7Swt1%2B9Pe3KxIP8AgTECvLPHn/BQD9iD4ZxO/jP9rHwBayR/ftYvFFtPOP8AtjC7Sf8AjteZ6L/wRc/4J8Wt6NY8Z/CnVfGGpD72p%2BL/ABfqN5K/1XzljP8A3zXqfgT9hL9i34ZSx3Pgb9lT4f6fcRf6u8TwpavOv/bV0L/rRz55U2hTh6ynJ/8AksYr8Sfq3hXhPjxONxD/ALlHD0Iv51ataVvPlv5Hktx/wWi/Yo1O5e0%2BFUvjrx%2B8bbWHgr4f6hcjd/dBkjjBP0OPeo/%2BHnXxP8T/AC/Cv/gmP%2B0BqJb/AFcviLwxDo0T%2B4eWVuPfFfWNraWtjbJZ2VtHDDGu2OKJAqqPQAcAVJR9Vzafx4lL/DTj%2BcpSYf294e4b/d8jnU862Mqv740KNKP3NHyWP2r/APgqb4j/AHvhj/gllY6VA3%2Brm8RfGTTt7D1MUUe5foaX/hZf/BZ/XONL/Zl%2BCehE9DrXjO9ugv1%2BzqM/hX1nRR/ZuIfxYqo/RwX5Uw/13ymn/AyHBR/xRxNT/wBOYrX7j5L/ALF/4Lf6381941/Zq0NW6Lpum65cso9/OOCf0oP7PP8AwV08WfufEX/BQzwT4WjP3n8LfCmC8fHcD7W4x9a%2BtKKP7IpP461V%2BtSS/wDSVEP%2BIiY6n/u%2BXYCm/wC7gqLt/wCDJVvxTPko/wDBNb47eLv%2BSv8A/BUf44agG/1qeEb%2B20BX9RiGN8D2qzo//BGX9iF9Tj1z4p6L4u%2BI1/Ccw3fj/wAbX18VPc7FkRGz6MpFfVlFNZHlV7zpKX%2BJyn/6VKS/AUvFLj9RcaGPlQT6UIUsPp2vQo0pW/7fPPvAX7Jf7Lfwthjh%2BHP7OfgfRfKHySad4WtIpM%2BpdY9zH3JJrv4444Y1ihjVEUYVVGAB6AU6ivRp0aNGPLTiorySX5JHxmNzHMMyq%2B1xladWXec5zf3zlJ/iFFFFaHGFeM/sv/8AJb/2jv8Ass1j/wCoV4Xr2avGf2X/APkt/wC0d/2Wax/9QrwvQB7NRRRQAUUUUAFFFFABRRRQAUUUUAFFFFABRRRQAUUUUAFFFFABRRRQAUVzHxo0Pxb4j%2BFut6R4F%2BJWpeD9Vksy9p4j0iytLi5sijB2Mcd5DNAzMqsn7yNwN%2BcEgV4Cn7TXxltv%2BCS/gP8AaRXxLBL498V/Dfwe0/iC60%2BLy4NT1gafbSag0CKsREct41wYgqx/JtwF4oA%2Bpa%2BE/wDgozqf9if8FZv2IdT3Yzc%2BOLXP/XeLRYsf%2BPV9BfsieNfiXd%2BK/ix8FPib8Rr7xlN8N/Hltpel%2BK9VsbO3vb60utE0zU1S6Wxggt/OjkvZY8xQxgxLCSu4szfHf/BU34w%2BHNW/4Km/sc6BpGneIoLvw94/1Oz1GfVPCOo2NpKbm/0CMG2urmCOC9Xrua3eQLldxG5c%2Bbm8uTL5y7OP/pdM%2B18O6H1rjDD0f54119%2BFxf8AkfpdRRRXpHxQUUUUAFFFFABRRRQAUUUUAFFFFABWV4f/AOQtrn/YUT/0kt61az73wxpF/dvfyC5ilkAEj2t/NBvwMAsI3UMQOMnnFAGhRWX/AMIfpP8Az96r/wCDy7/%2BO0f8IfpP/P3qv/g8u/8A47QBqV5T8Vf2PPhV8YP2jfh7%2B054ov8AWYtc%2BHIvP7P0%2Bxu40sNUM0ZWI30TRs0/2Zmklg2unlySM3zcY9C/4Q/Sf%2BfvVf8AweXf/wAdo/4Q/Sf%2BfvVf/B5d/wDx2gD5q1D/AIJJfBDWNL8Q%2BGdY%2BNHxJudD1v4e%2BM/BmnaE%2BpaattoOl%2BJ5optS%2BybLESPMJIUMc1y9wy8hzIMAdr4q/YJ8A6z4%2B1X4s%2BEvix438JeLNU8Z3PiI%2BIvDt3YGe2a50mw0q5so0urOaI2ssGm2jsrxvIssYdJEIUL7B/wh%2Bk/8/eq/%2BDy7/wDjtH/CH6T/AM/eq/8Ag8u//jtAHJ/s5fs8eH/2YvhX4W%2BCvgPxr4gvvDfhDwnZaDpFjrc1tM3l2wZVuZJUgSSSd1Kq5LeWRGpVFYszcvoH7D3w68O/HNfjVZ%2BPfFclvaeJNR8SaJ4KmurQ6NpGu39rJa3mqW6i2Fz58sVxdgpJO8KteXDLErSE16p/wh%2Bk/wDP3qv/AIPLv/47R/wh%2Bk/8/eq/%2BDy7/wDjtAHkPxI/YP8AAnxV8aWfjXxb8WfGrPNpWiaf430%2B2n0%2BK18ax6Tdvd2R1JFs8qVnlmZ/sZtVlWVopA0QWNeqv/2WPhdrvin4meK/FY1DV5fiv4etNA8TW99cqI4tJt7a4gSxt/LVXjizeXkxyzN5t3KQwBVV7T/hD9J/5%2B9V/wDB5d//AB2j/hD9J/5%2B9V/8Hl3/APHaAPFfCP8AwTg/Z9ii1Bfj99r%2BNj32k6VpUR%2BMGkaTqcdnY6abprOCKCGxhgyjXtyxneN53MvzysFUDmdU/wCCNP8AwTx1n9mK5/ZY1H9nLwrLpT2GrWun%2BIZPCGktq%2Blf2hLJLNNaTmzKwSoXUIyp8ohiyG2Zr6Q/4Q/Sf%2BfvVf8AweXf/wAdo/4Q/Sf%2BfvVf/B5d/wDx2gDzzX/2R/CfiPxp4a1G%2B%2BIPiKHwb4QudPuvDvwosLfTLXw7Z3VioFlMqQ2S3REDLHJHCbkwLJFGwiyi45XVf%2BCe/hfxX4z%2BLXiP4i/tC/ETxHpPxk8PyaL4n8JagdFgsLS02yx24tJLPTYbyJ7eOaSON3uHYht0hldVce2/8IfpP/P3qv8A4PLv/wCO0f8ACH6T/wA/eq/%2BDy7/APjtAHz54%2B/4JmeFfid4F8QeFPHH7UfxUv8AU/Fus6Rd%2BKvFUsmhfbNXs9NWT7JpM8H9lfYXsA8rySQ/ZgZmZhKzo7o258Tf2FtT%2BKnib4f%2BN9d/bH%2BKlvrPw5t7z%2Bx7%2B2s/DLpc3dxlG1Ce2n0WS2%2B1pCWgjliij8uKSUKAZZGf2f8A4Q/Sf%2BfvVf8AweXf/wAdo/4Q/Sf%2BfvVf/B5d/wDx2gDzbxV%2Byfd%2BKf2q/DX7VzftJePrK88LaBfaLYeErO30P%2ByJbG9lsJr2KTzNMe7PnS6ZZOzLcqyGIiMxq7q2H8Dv2GL/AOAmmeMNP8L/ALX/AMU9Ql8aXt5qOoajrFv4cku4dTuJUc6gs6aOjzSxpGkEaXBmhSBEiEWyOMJ7L/wh%2Bk/8/eq/%2BDy7/wDjtH/CH6T/AM/eq/8Ag8u//jtAHlGg/sbal4U0PXT4V/aw%2BJun%2BKvFPiSLWPE/j%2BOLQJdT1MxWSWcVs0U2lPYxW6QxxYWG1jbdHvLFnkL83d/8E2PBtlrXw41j4e/tG/Evwqvwu0a6svDdlp0mi30D3N07Nd6pMup6ZdE38weRGuEKFUmmSMRrNKH97/4Q/Sf%2BfvVf/B5d/wDx2j/hD9J/5%2B9V/wDB5d//AB2gDBsfgh4Us/j/AKl%2B0dLqGoXOu6h4Rs/DkFvcyxm10%2Bzgubi5c26BAyyTyTp5zMzBhaW4AXYd3O/CT9lqD4cfE%2B4%2BM/jP44eNfiD4mfQP7E07U/GJ0yP%2BzNPadZ5IIItNsrSM%2BZIkTPJIskjeTGN4C4PoH/CH6T/z96r/AODy7/8AjtH/AAh%2Bk/8AP3qv/g8u/wD47QAnjn/kSdY/7Bdx/wCi2ry7xx/ykL%2BF/wD2Rnx5/wCnbwhXqJ8GaG%2BFna%2BmTIJiuNWuZEb2ZWkKsPYgivLvHH/KQv4X/wDZGfHn/p28IUAezUUUUAFc78V/iv4B%2BCPgK9%2BJnxN1xtP0eweCOaaKzmuZZJZpkgggiggR5Z5pZpY4o4o0aSSSRERWZgD0VeQftr/Dfx98Q/hPpF98MvDLa7rHhPx/4d8Tw%2BHUu4YH1aLT9Tt7ie2jkndIlmMKSGLzXSMyrGHdFJdQDbsv2rfgJffAu6/aRTx00PhCxknhvr280i7t7m2uYbk2klpJZSxLdJdC5UwfZWiExlxGELkKca7/AG5/2bLLwNY%2BPZPE3iCSPUfEEuh2mhW3gHWptdbUooHuJbVtHjszqCSJAjTsGtxti2yHCMrHyzwr8CfHfif9nb4oeHvjJ%2Bz94ztrvx343vPHGn6B4c1/Rl1LS7hL%2BCTTreGdr37MupRGwtb0lnNoJZNnnSgNnyBv2I/2im0o/E74kfDf4m%2BME8T/AB0vPGXiDw/p3xC0vSPHVjb/APCKW2g2ki6np15YWcDs1nvmhsbqFPIuI4g0qxypKAfevw6%2BIfgr4t%2BAtH%2BJ/wAOPEUGraBr%2Bmw3%2BkalbZ2XNvKgdHAYAjIIyCAQcggEEV49%2Bx//AMm9av8A9l68c/8AqwNVrX/ZZ%2BDHxS8C/sQeCPgX408US%2BEvFGk%2BDbTTbjUPCsNg8uktGgVEiEttJaSSRoFRm8ho3YMyrgisn/gnv4aktP2Y9R8K%2BI/EN7r8lv8AFr4hQXWraokCXN86eNNaBnkFtHFEsjEbj5Ucahj8qqMAAHvVFZX/AAh%2Bk/8AP3qn/g8u/wD47S/8IfpP/P3qv/g8u/8A47QBqVU17QtH8UaHe%2BGfEWmxXmn6jaSWt9Z3Cbo54ZFKPGw7qykgj0NVv%2BEP0n/n71X/AMHl3/8AHaP%2BEP0n/n71X/weXf8A8doA%2BfvBP/BMH4UfDT4R%2BA/hh8PPjV8R9K1D4fa3qeqaX45XU9PudbvJb9JoroXUlzZSQSbopvKV1hSWNIYhG6bSTY8Df8ExPgH8P/DXh7wroni3xhJbeGvDXw80Owa71K2eR7bwbqt3qmltI32cbpJZ7yVbhuA6KgjELAu3vP8Awh%2Bk/wDP3qv/AIPLv/47R/wh%2Bk/8/eq/%2BDy7/wDjtAHiHw2/4J3eBfhT8RNL%2BIHhL46/ERV8L%2BG9d0LwHoVxeabJYeFrPVZraaZLRDY75TE9pB5JunuNipsO5Plr0j45/APRPjv4N0vw5q/jTXdE1TQNatdY8PeLNAe1XUdM1CAMq3MQnglt2LRyTROkkLxvHNIpTB46f/hD9J/5%2B9V/8Hl3/wDHaP8AhD9J/wCfvVf/AAeXf/x2gDi/ht%2BzbYfCL4YQ/Cv4e/FXxVYWqadq63Gok2E15dapqV015ca1I8toym9%2B0y3EwAUWxe5k3QOBGE5m5/YV8Aa78FfiD8HfHfxP8ZeI5viq23x/4u1S5sY9U1a38iK2Nofs1pFbQW5tYvs/lwwRjZLKwxLI8p9a/wCEP0n/AJ%2B9V/8AB5d//HaP%2BEP0n/n71X/weXf/AMdoAwPib8C/B/xX8ReBde8T3l%2BkXgDxR/b%2Bk6XaSRpa3V4tlc2kX2hShLpELp5UVWTEscTnOwCuX8W/so3Xiz9q/wAOftY/8NHePdPu/C%2Bg32i6f4PsbfRDo72N7LYTXkMnm6a94fOl0yycsLkOhixG0au6t6P/AMIfpP8Az96r/wCDy7/%2BO0f8IfpP/P3qv/g8u/8A47QBqVleD/8AkEzf9hS%2B/wDSuWuN%2BNXxW/Z3/Zz8MN4x%2BOfxgh8L6eFYxy6t4quI3nI6rFH5u%2BZv9lFZvavn2w/bn/ae/abt08P/APBOH9leVPDrZWL4q/FdJdN0cqT/AK22th/pN4DkneMYYHchzXBicyweFn7OUrze0Yrmk/8At1apeb5V5n1mR8E8RZ9hXjKVNU8NF2lXrSVGhF9va1LKUv7lNVZvpA%2Bw7%2B/sNKspdS1S9htraCMyT3FxIESNAMlmY8AAdzXzT8Sf%2BCtH7KXhnxVJ8OPg6fEvxf8AFMed%2BgfCXQn1h4%2B255kKwBQeCVkYrg5Fc/Yf8EtdW%2BNl9F4n/wCChf7T3ir4tXCyCVfCVnOdG8N27A5AWztWUylTgB2ZSwHzKc19NfDH4RfCz4K%2BGY/Bnwi%2BHei%2BGdKiwVsND02O2iJx95hGBuY92OSe5rn584xfwxVGPeXvz/8AAU1BfOUj2HhvDjh/%2BPVqZlWX2aV8Nh0/OrOMsRUX%2BClRT6Ox80H9pP8A4Kq/GQeT8Fv2EPDXw9s5uINd%2BLfjMStg/wATWNiPOjI9CTSf8MI/ts/Gg%2Bd%2B1T/wUi8U21nL/rfDXwg0uHQIYx3j%2B14aaVT0O9QccV9dUU/7IhV/3mrOp5OXLH/wGHIvvbJ/4iHiMDpkuX4XB9pRoqtV/wDBuKeIkn5xhDytsvnH4X/8EmP2BPhfqB18fAGw8T6xI%2B%2B51nxzcS61PPJ/fYXbPGG91Ra%2BgtB8PaB4W0uLQ/DGh2enWUAxDZ2FskMUY9FRAAPwFXKK7cNgsHg42oU4w9El%2Bl382z5jOeJuI%2BI6qqZrjKtdrb2lSc0vROXLH/t2MdNNtAooorpPECikMkYcRlxuIyFzziloAKKqXGvaHaXf2C61m0inIyIZLhVfH0JzVpWV1DowII4IPBpJpiTT2FooqOa8tLdglxdRoSMgO4H86Y9iSioor2znbZBdxOfRJATUGueIvD/hmzOo%2BJNds9Ptx1nvrpIkH/AmIFJtJXbE5RSu3oXKK8w1r9tv9jLw3O9r4h/a3%2BGVjKhw8N3480%2BNwfTa0wNcj4q/4Kmf8E7vBsJn1f8AbA8ETKBnGlasL9vythIa5J5jl9Ne/Wgv%2B34//JHDUzXKqKvPEU16zh/8ke%2B0V8mH/guN/wAEw1kIl/aNnSLdtS6bwTrPlOfZhZ881Jdf8Fvv%2BCYcCqLf9pb7XI4/dwWfg/WJHb2wLTj8cVzf27kv/QTT/wDA4/5nJ/rJw7/0GUv/AAOP%2BZ9X0V8lf8Pr/wBhR/mt9a8azIfuyxfDzUyrD1GYaP8Ah8/%2ByRe/L4Y8IfFHW3/556V8Nb92z6fOq0f27k3/AEER%2B%2B/5Ji/1k4f6YqHyd/yTPrWvGf2X/wDkt/7R3/ZZrH/1CvC9eYf8Pl/2YtKPmeP/AIV/GDwnD1Fz4i%2BGN5GhX%2B9mPecfhXRf8E6/jl8Mf2ktb%2BPPxp%2BDfiJ9V8N6z8ZoP7Pv5LGa2aQw%2BEfDcEoMc6JIpWWKReVGduRkEE9GGzLAYybhRqqUt7Le3ezSf4HVhM3yzH1HTw9aMpJXsnrbvZpO3yPpOiiiu09EKKKKACiiigAooooAKKKKACiiigAooooAKKKKACiiigAooooAxPiN8P8Aw/8AFTwTqHw%2B8VXOrw6dqkIiu5NB8Q3ulXYUMGxHd2MsVxCSQATHIpIJU5BIPBeCP2JP2c/AHwRb9m/RvDWu3ngc%2BGX8Pr4c8Q%2BOtY1aCPTSAogT7ddysgRQFjZSGiVVWNlUAD1iigDkfgx8C/hp8APDV14V%2BGWlX0MOoanJqOqXmr67eapfahduiI09zeX001xcyeXFFGGlkYqkUaDCoqj4T/4Lc/6D%2B1T%2By74s6f2BrGo6hu/u7de8KJn/AMiV%2BjVfnL/wXr/0G/8ABHizp/YPgTXNQ3f3dvivwOmf/IleTnumTV32i39zi/0P0Dwp18Scqh/PWjD/AMGRq0//AHIfo1RRRXrH5%2BFFFFABRRRQAUUUUAFFFFABRRRQAUUUUAFFFFABRRRQAUUUUAFFFFABRRRQAUUUUAFFFFABRRRQAUUUUAFFFFABRRRQAV4z44/5SF/C/wD7Iz48/wDTt4Qr2avGfHH/ACkL%2BF//AGRnx5/6dvCFAHs1FFFABRRRQAUUUUAFeM/sH/8AJENc/wCyzfEf/wBTXW69mrxn9g//AJIhrn/ZZviP/wCprrdAHs1FFFABRRRQAUUUUAFFFFABRQSFBZiAAOSa%2BU/jL/wUjuPE/ji8/Z3/AOCfvw8Hxa%2BIUH7rUtTtptvhzw2TkeZfXoIVypBPlRtlirLuDjaeXF43DYKClVlvoktZSfaMVq36L1aWp7/D/DGdcT4mVLAU7qC5pzk1ClSj/PVqyahTj5yldvSMZyai/Zv2l/2sPgR%2ByP4HXx38c/HEOlwXEvk6ZYRRma91KfjENtAmXlfJHQYXILFRzXz5H47/AOClX7czj/hV3ho/s5/Dmc5XxF4psUvPFepQnvDZE%2BXZBhkHzDvXhkZulc54f8O/sdfsQ%2BOn/aY/4KO/tcaB41%2BNk0YZr7VJvPOhoefs%2BlaZCrSQRrkgSiMMckjZvZT2S/8ABUP4gfFhhD%2Bxz%2BwB8U/iDG/%2Bo1zXbeLw3pE4/vR3d5nd9CimvArY5Ympy4qt7Nf8%2BqbcqjX99wUpK/8ALHlts5tnr4zjDw%2B4Eq/VMq9nj8dH4q9SEqlOMv8AqHwtpcyXStiotyfvQoRVr9V8F/8Aglf%2Byf8ACzxMvxK8baDqfxN8bMVe48Z/E/UW1i8ZxyGVZf3UeDkqVTcP7xxX0eqqihEUAAYAA6V8kt46/wCC0/xDXy/D3wJ%2BCPw7il4aTxT4nvdWuIAe6/YgI2Yds/KT1qN/%2BCfH7W3xkUn9rL/gpR43vbKb/j48OfDDTLfw5a7O8LTRh5JkPQ7gCQce9deGr08PDkwODlr3Spp%2Bbc25P1abPh88464m4qxKr4uOIxM0rRdVqnCK7RU2owiv5adGCX8p7D%2B0B%2B3d%2ByD%2By2Wt/jp8fvD%2BiXiDJ0kXJub/AB2P2W3DzY99mPevIE/4Ko698Smx%2Byp%2Bwb8YfiBbnmPW7vRE0TS5h2Mdzdn5voUHUV6r%2Bz5/wT8/Y7/ZeZL74PfAjRLPVFO5vEF/Cb3UnY8sxurgvKuTyQrBc9q9kro9jnFfWdWNNdoR5n/4FOy%2B6B4vsM/xOtStCiu0I87/APA6ll90D5K/4aY/4Kz%2BKfm8Of8ABNPwz4cjP3H8T/F%2BzuSR6lbWMFfpQfEv/BbnxCPK034Z/s6eHQ/Bl1fWdYu2jHriAAE/pX1rRT/sytL48VVfo4x/9JgP%2Bx68vjxlZ%2BkoR/8ASaZ8k/8ACgf%2BCv8A4x%2BfxL/wUA8A%2BDS3WPwj8K4tQVfYG%2BcE/jQ3/BPj9sHxR%2B5%2BKH/BWL4m3cL/AOvXwp4fsNDcj/ZeEOU/Cvraij%2BxsI/jlOXrUqfkpRX4B/q/gJfxJVJ/4qtV/gpRX4HySv8AwRj/AGVtZP2r4qfEP4s%2BOr7vqfi34mXss%2Be5zCYhz9KX/hyR/wAE%2BpPlvPAXie4j7xTfEDVSp/K4FfWtFH9hZN1w8H6q/wCLbf3sP9WuH%2BuFg/WN397bb%2BbZ8mf8ON/%2BCYAQkfs3TednP2n/AITbWvMB9c/bKaf%2BCJn7BJ/0c%2BF/GH2I/e03/hYWqeQfqPPz%2BtfWtFH9hZL/ANA0P/AUvysH%2BrXD3TCU/lBL8rHyrb/8ESf%2BCYFtaG0H7LdvICctJN4p1Z3J9dxu8/rVV/8AgiF/wTnsmM/g34Ta54buDyLrQ/HmrRyA%2B2%2B5cfpX1pRQ8jyV/wDMNT/8BX6JDfDfDz/5hKf/AIBFfikn%2BJ8kn/gjp8C5v9B1H9o347XelDpoVz8U7k2g/wCAhQ3/AI9UsH/BED/gmYVMmsfs9XGqXLHMt7qXjTWJJpD6sRdgfkBX1jRR/YeTdcPF%2Bqv/AOlOQv8AVvIOuFg/Vc3/AKU5W%2BVj5Pl/4Id/8Et5l2t%2By3GPdPGGsqf0vKn0X/gid/wTG0K9F/B%2BzFBcOvCJqPifVblFHpslumX8xX1TRTWR5KndYan/AOAR/wAhrhvh5O6wdL/wXH/I8Z0P/gnT%2BwR4egW3079jT4ZsE%2B6154Lsrh/%2B%2BpY2Y/nXXeFv2Y/2bPA04uvBX7PfgfR5QciTS/CdnbsPxjjFdxRXXDBYKl8FKK9IxX/tp3U8uy%2Bi706MF6QgvyiNWGJIhAkShAuAgXgD0xUdrp2n2TM1nYwwlzlzFEF3fXHWpqK6bI67IKKKKBhXjP7LwA%2BN37R2B/zWax/9QrwvXs1eM/sv/wDJb/2jv%2ByzWP8A6hXhegD2aiiigAooooAKKKKACiiigAooooAKKKKACiiigAooooAKKKKACiiigAorz/8Aar%2BNVz%2Bzn%2Bzf42%2BOOn6Cmq3nhjw5dX2n6ZLMYo7u6VD5ELuASiNKUVnAJVSTg4xXn/w2/aH%2BO%2Bjaf8YvAfxjs/CXiDxn8LNLg1SyvfDVtLommazbXOnPc26Ol5dXJs3E8FxC7tO6bESX5NxjQA%2BgK/Pn/guto/8AbnhSay2btnwG8X3GP%2BuXifwNLn/xyvZ/%2BCdP7ZPxV/aov/FekfExdKm/sTQvD%2Bp2d5aeAtV8LXG7UYrp5Ld9O1Wea4lhi%2Bzp5WooRbXRklWIZtpCfIf%2BCpXxE%2BFHxV8XeLvht4J%2BJnh7Wtd8Kfsw/Ed/Eui6VrUFxd6Q66j4TljW5hjcvAW8lyA4UnYcdDXnZvD2mU4iPeE//SZH2Ph3ifqfiDlFf%2BXFYd/%2BV6X%2BZ90%2BBtY/4SHwVo%2Bv79327S7e43eu%2BNWz%2BtalcD%2BynrH/AAkP7Lvw21/fu%2B3eAdHuN3rvsoWz%2Btd9XZQn7ShCfdJ/ek/1Pnc1w31PNMRh/wCSpUj/AOAznH/20KKKK1OAKKKKACiiigAooooAKKKKACiiigAooooAKKKKACiiigAooooAKKKKACiiigAooooAKKKKACiiigAooooAKKKKACvGfHH/ACkL%2BF//AGRnx5/6dvCFezV4z44/5SF/C/8A7Iz48/8ATt4QoA9mooooAK534r/FfwD8EfAV78TPibrjafo9g8Ec00VnNcyySzTJBBBFBAjyzzSzSxxRxRo0kkkiIiszAHoq8g/bX%2BG/j74h/CfSL74ZeGW13WPCfj/w74nh8OpdwwPq0Wn6nb3E9tHJO6RLMYUkMXmukZlWMO6KS6gG3ZftW/AS%2B%2BBd1%2B0injpofCFjJPDfXt5pF3b3Ntcw3JtJLSSyliW6S6Fypg%2BytEJjLiMIXIU58n7an7OsXwzX4ryeKtXWwfXzoSaU3gzVhrbaptMn2EaR9l/tA3PlAzeT9n3%2BSPOx5fz15H4V%2BBPjvxP%2Bzt8UPD3xk/Z%2B8Z213478b3njjT9A8Oa/oy6lpdwl/BJp1vDO179mXUojYWt6Szm0EsmzzpQGz5HD%2Bwj%2B0Wbe1%2BPXjbSfir4gvtQ%2BPt54z1/wbZ%2BPtL0zxbLpkvhCLw7Fuv8AT7qysYbkS2kE7R2lzBGttK8KyOUZJQD778JeKNL8beF9P8X6JFfR2ep2cdzbR6npdxY3Ko6hgJbe5SOaBwDzHIiupyGUEEV5V%2Bwf/wAkQ1z/ALLN8R//AFNdbq/%2Bz94C%2BPn/AAyR4d8AfGn4laxpHjw6EIdS8RadPZXmo2L7yY90txBNbXFwkXlxyStE6SSK7gHcDWF/wTp0m/0H9m6%2B0TVfE99rdzZ/Fv4hw3GsanHAlzfOvjPWgZpVt4ooQ7kbiI40TJO1VGAAD3SiiigAooooAKKKKACuU%2BNXxv8AhV%2Bzt8OdQ%2BLPxn8a2egaBpke65vrxzyx%2B7GijLSSMeFRAWY8AGuC/bQ/br%2BB/wCxD4Hh8QfErUJtQ13VX8jwt4M0gCXUtauCQqpFGOVTcQGlb5VyANzsiN8aWH/BPD9tj/gqJ8SrH4/f8FE/GN18O/BlpL53hX4WaFN/plnCeRvLArbSsNu%2BVw05IK7IQFVfEzHNalKbw2Ch7Wv2%2BzC/Wctkuy%2BJ9FbU3wWLySli7Y9zmo6%2Byope0n2XNL93Ri%2BtSreyu4UqsrI89%2BPn/BQn46/8FJ/iM/wD%2BBfw48Wt4Nkcj/hAPCt0LXWPEMO7b5msahzFpFieQYstIw4biRJE%2Bifg3/wTT/ag8U%2BBbPwD8a/jtp/wm8BQjMfwo%2BAMDWCODjP2zVJd1xcSMABJneHOSH719a/AP9nD4Ifsv%2BA4fht8B/hxp3hzSYsGSKyi/eXLgY8yaVsyTSY/jdmbHGcCu3rjwfD05TdfMarqVJb2bjG38ulm4%2BV4x7p7nTxBnWbcUYaGBxLWHwMHeGDoSnGgntz1ZXVXFVmvirVpa6qnTpU7QPGPgB/wT1/Y0/Zjlj1H4Q/ALQrTVI23f2/qEJvtRL9S32q5LyqSeSFYDPbpXs9FFfQ0MPh8LT5KMFGPZJJfgjx8NhMLg6Xs8PTjCPaKSX4Jfr6hRRRWx0BRRRQAUUUUAFFFFABRRRQAUUUUAFFFFABRRRQAUUUUAFFFFABRRRQAUUUUAFeM/sv/APJb/wBo7/ss1j/6hXhevZq8Z/Zf/wCS3/tHf9lmsf8A1CvC9AHs1FFFABRRRQAUUUUAFFFFABRRRQAUUUUAFFFFABRRRQAUUUUAFFFFAHO/Fz4WeDfjh8LPEXwb%2BIdhJdaF4p0W50rVoIZmika3niaN9jrho3AYlXUgqwBBBArzTwx%2Bw34L07wn408J%2BP8A4teNPHC/EixurL4g33iiXThca9ay2CafHBIbKyt1gjht0YRrbLDlppZJPMdy1e20UAeWfs//ALK2kfAjxPrXj7UPi34x8deI9c0XTNGufEHjSexa4i0zT2untLSNbG0togqSXt3IZGRpZGmJeRwqBfIP%2BChmj/8ACQfES50EJuN7%2Byd8WYAPdpvC6j%2BdfWVfO37TOj/8JD%2B1h4Y0DZu%2B3fs7fEq32%2Bu%2B/wDCa4/WsMTD2mGqQ7xkvvi1%2Bp6mR4n6nneExH8lWlL/AMBq05f%2B2nRf8E5tX/tz9gf4NX27dt%2BGmjQE%2B8VnHEf/AECvZ6%2Bbv%2BCQmsf25/wTZ%2BEt7uzs8Ovb5/643U0X/slfSNc%2BVT9pldCXeEP/AEmJ7HHuH%2Bqcd5tQ/lxWIX/ler/mFFFFd58mFFFFABRRRQAUUUUAFFFFABRRRQAUUUUAFFFFABRRRQAUUUUAFFFFABRRRQAUUUUAFFFFABRRRQAUUUUAFFFFABXjPjj/AJSF/C//ALIz48/9O3hCvZq8Z8cf8pC/hf8A9kZ8ef8Ap28IUAezUUUUAFFFFABRRRQAV4z%2Bwf8A8kQ1z/ss3xH/APU11uvZq8Z/YP8A%2BSIa5/2Wb4j/APqa63QB7NRRRQAUUVz3xY%2BK/wAPfgd8OtW%2BLHxV8UW2jeH9DtGudS1G6bCxoOAABy7sSFVFBZmYKASQKmc4U4OUnZLVt7JEznClBzm7JK7b0SS3bZu3t7Z6dZy6hqF3FBbwRtJPPNIFSNFGSzMeAAASSelfCv7R/wDwWa0rWviLF%2By9/wAE5PAf/C2viPqUrW8Gp2%2BTotgw%2B9KZAR9pVOrOGSFR8xlOCtfPH7Y/7S/7W3/BSvxrof7OXwn8Mah4X8N%2BMlFx4Z8ByzGHUNX0wH/kN646Emz04D5o4M7pjgjf%2B7c/fP7BX/BPb4M/sG/Dw6J4LtE1PxRqcSHxR4uubZUuL%2BQYPloo4gt1P3IV4AAJ3Nlj8r/aWYZ3iXQy/wDd0Y/FVa95%2BUE9m11a0TTsrpP1qORVamR083zGpKhQrpvD00rV8RFNp1veVsPhbpqNWUJVq7Uvq9OMIuucn%2BxZ/wAE3oPg940m/ak/aq8bN8TPjfrCb9Q8VaiN9to24c2%2BnRsAIlUEoJAqnblUWJGZD9UUUV9Fg8Hh8DR9lRjZbvq2%2Brberb6tv/I8ajh6GGhyUoqK3079222231bbb6vsUUUV1GoUUUUAFFFFABRRRQAUUUUAFFFFABRRRQAUUUUAFFFFABRRRQAUUUUAFFFFABRRRQAUUUUAFeM/sv8A/Jb/ANo7/ss1j/6hXhevZq8Z/Zf/AOS3/tHf9lmsf/UK8L0AezUUUUAFFFFABRRRQAUUUUAFFFFABRRRQAUUUUAFFFFABRRRQAUUUUAFFcd%2B0H8ZtC/Z3%2BB3iz45%2BJNMur6z8KaBc6lJp9jt8%2B8aKMslvFuIXzJGCxruIG5xkgZNcP8AC/8Aa01O40X4lR/tIeANO8D658KbaO/8V2mi%2BIpNZsTpklj9tjvILlrW2kkG1J42RoEZZLaQDepR2APaa8X8fwx3H/BQX4ZW8y7kf4L%2BPVZT3B1bwgDTv2Mv2qNW/av8Jaj43udH8CWNpA9uLay8I/EuPxDe2TSIZGtdUjitYo7C8jUxh4EluFDMwEhChmPHH/KQv4X/APZGfHn/AKdvCFAJtO6PNP8AgiHNLH/wTZ8DaDcOWl0fUdcsZSeuU1e8I/RhX1jXyX/wRt/0H9mjxZ4T6f2D8YvE%2Bn7f7u2834/8iV9aV5WRf8ibDrtBL7rr9D7/AMVkn4l5xNfbxFSf/gzlqf8AuQKKKK9U%2BACiiigAooooAKKKKACiiigAooooAKKKKACiiigAooooAKKKKACiiigAooooAKKKKACiiigAooooAKKKKACiiigArxnxx/ykL%2BF//ZGfHn/p28IV7NXjPjj/AJSF/C//ALIz48/9O3hCgD2aiiigArnfiv8AFfwD8EfAV78TPibrjafo9g8Ec00VnNcyySzTJBBBFBAjyzzSzSxxRxRo0kkkiIiszAHoq8g/bX%2BG/j74h/CfSL74ZeGW13WPCfj/AMO%2BJ4fDqXcMD6tFp%2Bp29xPbRyTukSzGFJDF5rpGZVjDuikuoBt2X7VvwEvvgXdftIp46aHwhYyTw317eaRd29zbXMNybSS0kspYlukuhcqYPsrRCYy4jCFyFNcftgfs8x/A3xB%2B0ZqXji403wr4U89fEk2s%2BH7%2BxvdNlhClreawuIEvEnIePZAYfNl86Ly1fzE3eN%2BFfgT478T/ALO3xQ8PfGT9n7xnbXfjvxveeONP0Dw5r%2BjLqWl3CX8EmnW8M7Xv2ZdSiNha3pLObQSybPOlAbPmEH/BPf8AbD8c/Cjxv4s/4W1JpWt%2BLfiTqHjOTwl8WNBtNfvNRlTw5p%2Bi6et62j6hY2MFxG1g11GsDSW0LyWp2s9qr0Afdvgzxf4d%2BIXg/SfH3hDUftmk65pkGoaXd%2BS8fn200ayRvtcBlyjKcMARnBAPFeV/sH/8kQ1z/ss3xH/9TXW6u/s5/Cr4u%2BG/2LfA3wb%2BInjuXw/4x0zwJpumanrfhTTrVJNPuYreNCIY7s30DOgXYWfzUchmAAYAYn/BOnSb/Qf2br7RNV8T32t3Nn8W/iHDcaxqccCXN86%2BM9aBmlW3iihDuRuIjjRMk7VUYAAPdKKKKAKHinxR4d8EeGdQ8ZeL9Zt9O0rSbKW71K/u5AkVtBGpd5HY9FVQST7V%2BVv7T37Tvjf9tv4geGfGA%2BHtzrPhrUNXaL9nj4M3cZR/Gd%2BhZT4l1iMkbNMgwzIj4Em1gSE85z6D/wAFe/2udI8f61qf7LGiXdzceCPBQtNQ%2BL8umTMsus3srZ03wvAyc%2BdcSqHl25ZI0ZufJkQ/QX/BPT9i3Wvg7Yz/ALR/7Qkdre/FvxhpsEeoLBAEtfC2mqi%2BRoljGMiGGFAisF%2B8yDlgoY/H4%2BtXzzMHgMO7U4fHLpe/42atFbOacpXjTtL3OGsmyvHUZ8Q55D2mXYeo6dKhqvr2KglJwk1ZrCYa8JYmSf7ybjh4u7k4dR%2Bw9%2BxdY/ss%2BGdS8XeO/Eh8V/FHxnMt78QfG9yuZL246i3hyB5drF91EAAwM4XhV92oor6nDYajhKEaNJWiv6bb3bb1berbuzDO86zLiHNKmYY%2BfPVm9XZJJJJRjGKtGEIRSjCEUowjFRiklqUUUVueUFFFFABRRRQAUUUUAFFFFABRRRQAUUUUAFFFFABRRRQAUUUUAFFFFABRRRQAUUUUAFFFFABRRRQAV4z%2By/8A8lv/AGjv%2ByzWP/qFeF69mrxn9l//AJLf%2B0d/2Wax/wDUK8L0AezUUUUAFFFFABRRRQAUUUUAFFFFABRRRQAUUUUAFFFFABRRRQAUUUUAcd%2B0J8GdD/aJ%2BBviz4GeJNUurCz8V6Bc6bJqFjt8%2BzaWMqlxHuBXzI2KyLuBG5BkEZFebeBP2PvG8lv8QZP2gPi1oni%2B7%2BK1g%2Bm%2BO5NH8HTaTFJp6aetlbWtnG1/cG2Cq11LI0jTmSS6bb5SqqD3qigDwr9kv9j7xP8As8%2BK9Q8b%2BOvinpPiTUZfA2geDtLTQPB39iW1vpGkNeNamaL7VcefdMb6XfKrRxBVRY4Yhu3Zt/8ACP4UeBv%2BCm3gvx74J%2BGPh7R9d8T/AAe8cS%2BJda0rRYLe71Z49W8JeW1zNGgecrvfBcsRuOOpr6Hrxnxx/wApC/hf/wBkZ8ef%2BnbwhQB5j/wSi/4lr/tGeE24/s39p7xSYV/uwyfZnT%2BtfWlfJf8AwTr/AOJT%2B07%2B1X4T6eT8XotQ2%2Bn2qyR8/jtr60ryck0yyEezmvuqVD9A8Ufe43xFX/n5DDz/APA8JhH%2BjCiiivWPz8KKKKACiiigAooooAKKKKACiiigAooooAKKKKACiiigAooooAKKKKACiiigAooooAKKKKACiiigAooooAKKKKACvGfHH/KQv4X/APZGfHn/AKdvCFezV4z44/5SF/C//sjPjz/07eEKAPZqKKKACiiigAooooAK8Z/YP/5Ihrn/AGWb4j/%2BprrdezV4z%2Bwf/wAkQ1z/ALLN8R//AFNdboA9mrwX/goB%2B1nq/wCzP8MbDw18KtIXWvij4%2Bvxonw18OqAzXF8%2BAbmRT0ggDCR2OF%2B4pKhtw9o8ZeLvD3w/wDCGq%2BO/F2pJZaVounT3%2Bp3kp%2BWC3hjaSRz7BVJ/Cvyx8aeM/jF8fbi0/ab%2ByPbfFn9o6aXwf8As%2B%2BHpX3HwV4OOftusNt%2B5M8DO7Sr8yibcpKkovhZ7mMsHh/ZUr88k9t0rpNr%2B821CC6zkntFl4DKsx4oz7DcP5dNQrYhvmqP4aFGCcq1eb6Rp01NrvJLtZ9V/wAE1v2TdJ%2BMfxxTxpqGrt4i8BfB/wAQXNwfEdwS48eeP5sNf6yzN/rYLY4jgJz92NwdzSg/ptXG/s9/A3wN%2BzV8FvDfwL%2BHFkIdI8N6ZHaW5KgPO45knfHBkkkLyMe7Oa7KujJstjlmCUGvfesrd%2By8orRd9W9ZM%2Bk4pzbLsdiqWCymDp4DCQVHDQe6pxbbqT71a83KvVlq3Opa7UIhRRRXqnzAUUUUAFFFFABRRRQAUUUUAFFFFABRRRQAUUUUAFFFFABRRRQAUUUUAFFFFABRRRQAUUUUAFFFFABRRRQAV4z%2By/8A8lv/AGjv%2ByzWP/qFeF69mrxn9l//AJLf%2B0d/2Wax/wDUK8L0AezUUUUAFFFFABRRRQAUUUUAFFFFABRRRQAUUUUAFFFFABRRRQAUUUUAFFZvjPxj4V%2BHfg/VviB451%2B10rRNC02fUNY1S9lCQ2drDG0ks0jHhURFZiewBrnPgh%2B0J8Kv2iNE1DXfhbrGozLpGoCx1aw1vw7faRfWNwYYp1Sezv4YbiLdDNDKheMB0lR1JVgaAO1rxXx5eWsX/BRX4V2Mk6iWX4LePmjjJ5YLq3g/cR9Nw/Ou1%2BEn7RPwa%2BO2t%2BMPD3wm8bR6zdeAfE0nh7xWILSdEstSjijkktxJIipMVWRQzRF1VwyFg6Oq/Jf/AAUk%2BL978Bv%2BCnX7HnxHeZ00m4j8Z6Dr7D7iW2ozeHrZZJD2RJmhfJ4yornxWIjhaDqy2Vr/ADaV/le5y43FQwWGdeeytf0coxv8ua52v7G//Ep/4KY/tc%2BGzwj3fgvUIR/e83SJd5/76AFfWlfJfwN/4k3/AAWD%2BOum9P7a%2BG/hjUMf3vJDwZ/XFfWlcOTaYace1Sqv/Kjf6n6V4k%2B/nmFrfz4PAy/8tKcH%2BNNhRRRXrH5%2BFFFFABRRRQAUUUUAFFFFABRRRQAUUUUAFFFFABRRRQAUUUUAFFFFABRRRQAUUUUAFFFFABRRRQAUUUUAFFFFABXjPjj/AJSF/C//ALIz48/9O3hCvZq8Z8cf8pC/hf8A9kZ8ef8Ap28IUAezUUUUAFcd8ePjZ4a/Z%2B%2BHUvxE8TaRqeqbtSsdM0zRdEhjkvdU1C9uorS0tIFlkjj8ySeaNd0jpGgJd3RFZh2NeX/tb/Bvxn8Z/hhYWPw1vNMi8TeGvGGi%2BJdAj1ueSKyurjT7%2BG5NrPJFHI8STRpJD5qxyGIyCQJJs2MAZsP7bHwyX9nfVf2hdW8J%2BJdPXRNfbw/qvg%2B6s7dtYg1v%2B0E06PTNkU7wNNLdSwxxusxgcTxyCXy231Bpn7Y954j8Jahq3gv9ln4la34h0HxNJoXizwJYNoa6poN2tpDej7TJNqkdkyvbXVpMhhuZS63UeBncF5bwd%2BzB8V1%2BBPxF8D/Fz4Z%2BAvE%2Bp/EbXNQ8Taroo8Z39vp6ajPcJ5Fil0mn%2BfFHBb29oV1BIxN9oRpFt4sLjza2/Yb/AGwPhn8AvFPgf4FT%2BEbDW/i18Tzr/wAUIbz4q62ZrLSP7MtNPax0/XJ9Purye7mi0%2B3El9PCkifaLhohGwhaMA%2Bt/g58WPBnx4%2BEvhn42fDq9muNA8W6Daavo01xbtFI9tcRLLGXjb5kbawyp5ByD0rz39g//kiGuf8AZZviP/6mut12Xhf4W6bcfAXSvg9rvhKDwlZweHrbTX0LwF4ovLaHSYoo1RbeyvrdbS4SONUCJIiwttUfKvSvP/8AgnT4esPCX7N194W0q4vpbbTvi38Q7a3l1PVJ725dE8Z60oMtxcO807kDmSR2djksxJJoA83/AOCtPjW%2B8ZeEfBX7DXhPXfsGp/GTxALfX75JAp03w1ZAXWp3RP8ACBGirzgMpkGeKyP%2BCavgW2/aC%2BKPiD/goNqfh42Hh1rEeDfgVoksRVdL8L2TGI3Co33GuJEPuoVwCVcV82/tJfEnxP8AtM/E/wCJvxh8AXXm6j8RfEtt8B/gk/LKlh5ofXNTUd4mBdBMuNqzEE4Br9RfhT8NfDHwb%2BGPh/4TeC7TyNJ8N6Nbabp0ZAz5UMaxqW9WIXJPcknvXyGAX9rZ3UxL1hC1vO3Mof8AuSp6yg%2Bx9Tw3L%2BxOBsXnq0xGbTlh6L6xwOGaVaUe31nEtQb606Uls2dBRRRX158sFFFFABRRRQAUUUUAFFFFABRRRQAUUUUAFFFFABRRRQAUUUUAFFFFABRRRQAUUUUAFFFFABRRRQAUUUUAFFFFABXjP7L/APyW/wDaO/7LNY/%2BoV4Xr2avGf2X/wDkt/7R3/ZZrH/1CvC9AHs1FFFABRRRQAUUUUAFFFFABRRRQAUUUUAFFFFABRRRQAUUUUAFFFFAHmH7anwh8VfHz9kz4h/B3wK9qNb8QeFLy10eO%2BlKW810YyYopWAJWJ3Co7YOFZjg4wfMPhr4E/aW8c%2BJfjN8RZvh/rvwi1r4qaTb6X4UvtTk0jVZ/C8ljpZhi1O7htL94pne6uZTHDFJIGjs0MrQmTav09RQB8t/8E6v2Vf2g/2WvHHxZ0b4q6x4QuvDOp6zoY8GSeFvC0%2Bmi6htdBsLKScrPqt/KBut/KKykSPJDLMXZZlVfJv%2BCn/7Lfiz4xfFLUNCPxX8Sa9c6h8AfHWseE9Cv7bTo4dDvbDWPCF3FHZPa2kNwTK8aoTcSzMMjaVy2fv2vGfHQDf8FCfherAEH4MePMg/9hbwhWGKw8MVhp0Z7STT%2Baa/r0ObGYWnjcJUw9T4ZxcX801%2Bt/kfLvw7/aBXSP2pfgP/AMFANdkifwj%2B0B8MLPwN4hvlGE0fxEkhniDN02yTLLAPQxuxIAAr9CK/PP8AZz/Zr0P4tfAH9o//AIJU%2BJp1s5/h/wCPbm68CXDZDaXZ3%2BdQ0mdccjZKJGbbjKuy/wAXP0n/AME5f2lte/aT/ZvtJ/iRA1r4%2B8G383hn4iadNgSwavZkRyOwH/PQbZeOMuyj7pr5/I8RUhP2VX/l4nJf44%2B5Vj/4FFTXlJ9j7z6xLjHw1y/O/wDmJwMYYPEpfyxdRYerbtdVqE3/ADRpN6z195ooor6c%2BMCiiigAooooAKKKKACiiigAooooAKKKKACiiigAooooAKKKKACiiigAooooAKKKKACiiigAooooAKKKKACiiigArxnxx/ykL%2BF//ZGfHn/p28IV7NXjPjj/AJSF/C//ALIz48/9O3hCgD2aiiigAooooAKKKKACvmD4V/EkfBz9gL4s/FgT%2BW/hvxr8WdShbPPmQ%2BLNfkQD3LKAPcivp%2Bvzo/bE8cS%2BEP8Agj58TtEsboQ3viv45%2BNdBsmY4BNx8QtW8wH6wpNXDmeIeEy6tWW8Yyfzs7fi0cGa154XLK9WCvJQla27lZqKXm5OKXnY5b/gjr8NR8Wfil4H1mW2D%2BF/2ffhhBZ6UCvySeKNeDX9/KP9uKGb7O4PKsqmv1Ar5R/4Iq/De18Cf8E8/B3iCWzVNV8Z3F94j124C4NzcXNy4SQ/9sI4F/4DX1dXn8NYX6tk9Jv4ppSfzSsvlFRX3n6Hx3Gll%2BcwyGh/ByynTwcLbP6vHlqz/wC4uIeIqN9eaN9tCiiivePiwooooAKKKKACiiigAooooAKKKKACiiigAooooAKKKKACiiigAooooAKKKKACiiigAooooAKKKKACiiigAooooAK8Z/Zf/wCS3/tHf9lmsf8A1CvC9ezV4z%2By/wD8lv8A2jv%2ByzWP/qFeF6APZqKKKACiiigAooooAKKKKACiiigAooooAKKKKACiiigAooooAKKKKACio729s9Os5dQ1C7igt4ImknnmkCpGijLMzHgAAEknpXM%2BAfjp8Efit4Cn%2BKnwu%2BMfhXxJ4XtjMLnxJoHiG2vLCLyRmXdcQu0a7By2W%2BUdcUAdVXjPjj/lIX8L/wDsjPjz/wBO3hCu%2B%2BE/xw%2BC3x60CbxX8DPi/wCF/Gml290ba41Lwn4gttRt4pgqsYmkt3dVcKynaTnDA9xXA%2BOP%2BUhfwv8A%2ByM%2BPP8A07eEKAPMv2w/gp8ePgf8dP8Ah4h%2ByLpTeIdXh0SLTPiZ8NmUf8VPpMLFlltWALLewg/KOd6qAASDHL5zb%2BJfFN14hvP%2BCqP/AATQdPG%2BgeMbe3T4w/CGVBDeXctqm0zQAZMOowoxDREESgll8zeu775r5X%2BNv/BP/wCIHhf4qat%2B1B%2BwD8X0%2BHXjrWHWfxL4a1C38/w14plXPzXduozDM2TmeMFuWIAZ2c/OZjltWE3Vw6bi3zNRaUoz/np30be04P3Zrazve8gzvNeB81q43A0Y4jDV044jDT1jVhJpy5dU024xl7soyjUjGrSlGomqnsn7Mf7Uvwa/a6%2BGNv8AFT4L%2BJhe2bv5OoWFwvl3mmXIHz21zETmKVfQ5BGGUspDH0Svyy%2BIfjfwppPxtfxx8T5dd/Y7/aIunCT%2BJ1iN34J8bMvOZ5ADBKjcktJgxlss0rqAPoX4df8ABUXWPhJNp3gn/goj8NV8D3F%2BVj0f4oeGS%2Bo%2BDtfB%2B5LDdx7jbFuuyTO0fMzJ0CwXEFFrkxbUWtHLVR/7eT96lLymuW/wzasfcUeHcl4zhPF8E13iGtZ4OdljaHVr2b5XiIR1tUopz5UnOineT%2ByKKoeGPFPhnxroFr4q8G%2BIrHVtLvohLZalpl2k8Fwh6MkiEqw9wTV%2Bvo01JXWx8PUp1KU3CaaknZpppprRpppNNPdNJrqgooopkBRRRQAUUUUAFFFFABRRRQAUUUUAFFFFABRRRQAUUUUAFFFFABRRRQAUUUUAFFFFABRRRQAUUUUAFeM%2BOP8AlIX8L/8AsjPjz/07eEK9mrxnxx/ykL%2BF/wD2Rnx5/wCnbwhQB7NRRRQAVx3x4%2BNnhr9n74dS/ETxNpGp6pu1Kx0zTNF0SGOS91TUL26itLS0gWWSOPzJJ5o13SOkaAl3dEVmHY15f%2B1v8G/Gfxn%2BGFhY/DW80yLxN4a8YaL4l0CPW55IrK6uNPv4bk2s8kUcjxJNGkkPmrHIYjIJAkmzYwBmw/tsfDJf2d9V/aF1bwn4l09dE19vD%2Bq%2BD7qzt21iDW/7QTTo9M2RTvA00t1LDHG6zGBxPHIJfLbfWPc/t%2B%2BD49DhtLL4HePbzxzJ41m8Ky/Cu1TSTrltqUWmrqsiyO2oCwWMae8N15v2soUuIVDGWRYzj%2BDv2YPiuvwJ%2BIvgf4ufDPwF4n1P4ja5qHibVdFHjO/t9PTUZ7hPIsUuk0/z4o4Le3tCuoJGJvtCNItvFhceffDL/gn38dfgXPZfHj4Y2XhG5%2BIcnxR1LxTrHhPX/H%2Br3emSWt5oNvoptf7bubS4vridUsbK6N1NbEySefHsjR0aMA%2Br/g98VvB3x0%2BFfh74x/D67mm0XxNpEGo6a1zAYpVjlQMEkjbmORclXQ8qysp5Br8m/wDgqR47hh/Y28J/CNr5oW1P9oH4u6%2BCjYIbTfEeviIn2827THqQPSv0z%2BAX7NEXwx/ZK8O/s0%2BNfFF7ezWWgrba7q/h3VbvSZJ7t2MtzLbTW0sdxbKZnkKbJA6oQCx5J/Hf9p7RLDx78UtM/Zj0ee/utN0Xxd4n8O2M2o6rcXt0L/U/ilqoCyXFw7zTSNaWhLSSOzvyWJJJr5ji%2BrKGQ1IR3m4xXzf/AAD1%2BGcDSzXjPJ8BV%2BCtjMKpf4IVo16n3U8NNvyP2a/ZH8C/8Kx/ZW%2BG3w8aHY%2Bi%2BBNJs5lxg%2BZHZxK5PuWBJ9zXodJHGkSLFEgVVACqowAPSlr6OjTjRoxpx2ikvuSX6HJmONq5lmNbGVPiqznN%2Bs5ym/xkwooorQ4wooooAKKKKACiiigAooooAKKKKACiiigAooooAKKKKACiiigAooooAKKKKACiiigAooooAKKKKACiiigAooooAK8Z/Zf/AOS3/tHf9lmsf/UK8L17NXjP7L//ACW/9o7/ALLNY/8AqFeF6APZqKKKACiiigAooooAKKKKACiiigAooooAKKKKACiiigAooooAKKKKAPIv2%2B/h940%2BK37FHxT%2BHHw80aXU9Z1nwNqNrZaRA4V9TLQNus1LEKDOu6EbiF/eckDJrzj9nfxrpU3xS%2BNfxxm%2BEPjvTfBni%2BOwl0fRtU%2BGOrWt3qr6Zo8cd9cGwltVmRpEa3s4klRHuTYlYVkVUJ%2BpKKAPmP8A4J5eI9Q%2BMfiT4h/tQ%2BN/Afi3wn4p8cS6XHc%2BEPEvw/1bQ/7C0q0juE0%2B0aTULWBb%2B8xLcSXMsBkjjeZIVZo4opJdW/034r2n/BTbwXeeNvGnh7UNCuPg944PhrTtK8MT2d3YINW8JeYtzcyXsyXZOUwUhtwu05Dbht%2Bh68Z8cf8AKQv4X/8AZGfHn/p28IUAezUUUUAZPjjwD4H%2BJvhm58F/EbwdpevaPeptu9L1iwjubeYf7UcgKn8q%2BTvHP/BIbw34WttSk/Yv%2BPPiH4XwapubUPBN7Emu%2BFb8tyyzaZe7k%2BboTuIUH5V4xX2PRXFi8uwWOs60E2tntJeklZ/K7XkzixOXYPF1Y1ZxtUjrGcW4Ti904zg4zi09dJb9D8i9d/ZS/wCCmH7D2u3XjP4IfDLVtFTzjPe3vwK1T%2B1tD1AjvN4a1A%2BZ5rAYLQuqR8hE6V2fwV/4OGrjwdqw8Afto/BGa2v7V0hvda8IwyQSpI3AWXTL7y5kYdWMbuOflXtX6g1y3xQ%2BB/wZ%2BNulf2J8YvhR4c8U2gUqkGv6NDdhPdfNU7T7jBFeAuHsdgZc2W4pwX8s0pQ%2B5Wt6pJn2D4z4lxNJUs4dLMoJWTxUWsQktEljcP7LEOy0Xt44leZxn7Pn7eH7If7UsEQ%2BCPx60DVr2UZ/sWW6%2BzagvqDazhJuOmQuPQmvXK%2BK/i5/wQK/4J4fEuaTUfC/g7X/AAPes29bjwnr8gVX6giK6EyKM44QL7Y61g6L/wAE4/8AgpZ%2Bzjb%2BT%2Byb/wAFOLvVtPiIFr4a%2BKGiG7t44x/yzE7G4ZF/65Rx%2B1dlPG59h9MVhVNfzUpJ/wDkk%2BV/dJngYzHZfJ81LC1qflz0q8flJewqW/xU2/xZ95UV8R3X7V3/AAWL%2BBaXUnxq/wCCe3hf4j2FqQo1f4VeLDA0g7utrP59xKT1wIk/CsyD/gv5%2Bzb4R1VPDH7RP7P/AMWfhxq3/La28QeF12Ie/wDy0WU4/wCuQrV8Q5XTdq8nSf8A08jKH4tOP/kxwU8YqkW1SqJLd%2ByqtLrq4wqJW6ttJdWfd9FfMXgX/gsr/wAE0/iAETS/2ptIsZHxmLXdPvNP2H0LXEKJ%2BIYj3r2DwZ%2B1T%2BzF8Rgn/CAftF%2BBdbMn3F0rxbZ3DH2wkhOfau6jmWXYn%2BFWhL0lF/r%2BhnQzXK8U7Ua8JPynG/3c1/wO9opsckc0aywyK6MMqynII9QadXad4UUUUAFFFFABRRRQAUUUUAFFFFABRRRQAUUUUAFFFFABRRRQAUUUUAFFFFABXjPjj/lIX8L/APsjPjz/ANO3hCvZq8Z8cf8AKQv4X/8AZGfHn/p28IUAezUUUUAFFFFABRRRQAV%2BJH7NXhC4%2BIH/AAU61KzvMzx6r%2B2x4qmsUYZES%2BHL3Vb2UL7btRRj74r9t6/Ln9gb4bRD/gqTNZKY5G0vxL8YfHE5j5EU19431DR1BP8AfMNonHpXz3EOHeIhho9Paw/r7kz7LgDCt8Uf2i9sHh8bX9JLB1aMH/4HiUfqNRRRX0J8aFFFFABRRRQAUUUUAFFFFABRRRQAUUUUAFFFFABRRRQAUUUUAFFFFABRRRQAUUUUAFFFFABRRRQAUUUUAFFFFABRRRQAV4z%2By/8A8lv/AGjv%2ByzWP/qFeF69mrxn9l//AJLf%2B0d/2Wax/wDUK8L0AezUUUUAFFFFABRRRQAUUUUAFFFFABRRRQAUUUUAFFFFABRRRQAUUUUAFFFFABXjPjj/AJSF/C//ALIz48/9O3hCvZq8Z8cf8pC/hf8A9kZ8ef8Ap28IUAezUUUUAFFFFABRRRQAUUUUAFUPEvhXwv4z0mTQfGHhuw1axm/1tlqVmk8T/VHBB/Kr9FJpSVmtC6dSpSmpwbUlqmm00%2B6aaafo0fNfxT/4JB/8E6Pi3JJd6x%2BzHouk3bklLzwrJNpLRsf4glq6Rk/7yke1fO3j7/g27/Z3uluJfg58dfEvh%2BScltniLRbDWooyey7o4ZAPq5PvX6O0V42J4dyLFu9TDxv3S5X98bH0i4y4jnHkxVZYiP8ALiKdHEq3b/aaNZ28lNH5LS/8ELv2ufg78/wc8XeAtZhjYlp7LxR4g8P6jL7oIp5bdG%2BowKYPgX/wUt%2BDvGt%2BF/2rLOCLpdeD/jtp3ie3IH/POykgSRR/ssxJr9bKK87/AFQy6n/u850/SV1%2BNvzJ/tXhLE/79w7gZv8AmpQr4OX34TEwhf8A7hW/un5Kf8NeftIfDj/kdv8AgoP8e/hskX%2Bti%2BLX7LlrdIMf3poXkbH%2B0Bk12ngf9vz9oTxBs/4Qj/grp%2Bzfrm77g8deELnQS3%2B9u8vbX6b1xfjf9nD9nn4mb/8AhY/wH8G6%2BZM7zrXhi0ui31MkbUf2DmVL%2BFiW/V1I/wDpNSS/APqXhLiviwWPwr/6cZh7WK9I4qi398z5Z8G/Hv8A4KyeJwreDPE/7InjyMj92fCvizVPMkH4sy5%2BnFdL/wAL5/4LBaL/AMhP9gj4ea1t6/2P8Uktt3089Dj8a6Txj/wSG/4Jt%2BOSzax%2Byd4dtmbndos1zp2D6j7LLHiub/4c3fs36H/ySn4yfGbwHt/1X/CI/E%2B7h8v/AHfO82j6ln9P7cn6Vl%2BVSj%2Bof6p%2BG2I/3fP8woeVXDUqqX/b1Gpd/wDgAf8ADZf/AAUy0vjxD/wSIvSo6y6V8a9HuN3uEEYIo/4eEftdaf8A8jB/wSg%2BKEePvf2drlhd/ltIzS/8O5f2lPDH/JMP%2BCqnxktNv%2Br/AOErWz1vH%2B95qJuo/wCGb/8AgrZ4W/5F7/gpB4T8ThfuR%2BJ/hFa2mR2Ba0kJP1ovnUPi9t8vq8/y5H%2BAf8Q8yur/ALpxdSflVoVqT/HCzivnIT/h538U7L/kN/8ABLz9oePHX7B4Uhuf/QZhmj/h7ELfjVf%2BCb37VVtjq/8AwqPeg/EXNL5f/Bb7wx924/Zr8TwL/fTW7K5f8sxij/hfn/BX3w5/yGf2AfAHiTb1/wCEe%2BKkdnu%2Bn2pDj8aPreYR%2BKpVXrh4v/0mTD/iFvEk/wDdeIMDV9K%2BGi//ACrGhb5sT/h7x8PYv%2BQh%2Bxd%2B0jaev2n4SSjH5TGj/h8R8DI/%2BP39nP47W3r5/wAK7kfyY0v/AA3V%2B3ron/I7/wDBJHxfb4%2B//YPxF0vU/wAvLVc0H/gqJ470b/kcv%2BCY/wC0jbY%2B%2B2j%2BBotQVfxSdePej%2B0ay%2BLFtf4sPJfoH/EI/E6X8DEUKv8AgqYCf/pOOiJ/w%2BT/AGaU/wCPj4RfGOL18z4YXg/lR/w%2BZ/ZXH3/h58WV/wB74ZX3%2BFL/AMPhPgjYf8jd%2BzZ8ePD%2BPvf2z8K7lNv12O1H/D7b/gnxY/8AI1fELxLoWPvf2v4A1VNv12W7Uf2olvmFNetO35yQf8Qe8aH/AA8JUn/gw8Kn/prEVPwE/wCHzX7Kn/QgfFj/AMNnff8AxNH/AA%2BX/ZdP%2Br%2BGfxdf/d%2BGV7/hWrpX/BZ//gmRrOPsn7VemJnp9r0PUoP/AEbbLXRaZ/wVN/4J3atj7L%2B1/wCCkz0%2B1ap5H/owLitYY%2BU/hzGk/wDt2H/y04q/hd4w4X%2BNgsRH1wNX/gnEH/gsl%2Bzaf9V8HvjK/wDufC%2B8o/4fIfs6f9EU%2BNP/AIa%2B7/xr1fTv%2BCgX7Ceq4Fl%2B2X8LiT0WTx5p6MfwaUGt3T/2tf2VdWx/ZX7TPw%2Buc9Ps/jOxfP5S1vGpip/Djqb/AO3Yf/LTyK3BniLh/wCLTqx9cFVX5xR4X/w%2BW/ZiT/j5%2BFvxfhHcy/DG9GPyFH/D6X9jGL/kI2HxFs8dftPw41EY/KM19H2Hxp%2BDmq4/sv4s%2BGbnPT7Pr1u%2Bfyetmx8R%2BHtTx/ZuvWVxnp5F0j5/I1vGnmkvhxUH/wBw1%2BlQ8yrlHFeH/iVuX/Fh2vzkj5Y/4fd/8E74f%2BQn8TvENl6/avAOrDH5WxoX/guV/wAEu87J/wBph4W/uzeCdaB/9I6%2BtKRkRxtdAR6EVfsc6X/L%2Bn/4Lf6VDm%2Br8RLbE0//AATL9Kp8or/wXB/4JcMMj9qWL8fCGsj/ANs6bJ/wXH/4JbRjJ/ajQ/7vg3Wj/Kzr6rbTtPdtzWMJPqYhT47a3iOYrdFPqqAUexzv/n9T/wDBcv8A5YHsOI/%2Bgil/4Kn/APLT5N/4fi/8E0ZeNP8AjvqN2ewtvAuskn87QVU%2BCn7bXwC/bG/4KF%2BDG%2BBmsateL4d%2BDPjL%2B0pNT8PXVgB9o1bwr5ez7RGnmf6mTO3OOM9RX2BXjPjj/lIX8L/%2ByM%2BPP/Tt4QrWhSzSNVOtVg49UoNP73N/kb4ajnMaylXrwlHqo03Fv5upK2vkz2aiiivQPUCuO%2BPHxs8Nfs/fDqX4ieJtI1PVN2pWOmaZouiQxyXuqahe3UVpaWkCyyRx%2BZJPNGu6R0jQEu7oisw7GvL/ANrf4N%2BM/jP8MLCx%2BGt5pkXibw14w0XxLoEetzyRWV1caffw3JtZ5Io5HiSaNJIfNWOQxGQSBJNmxgDM/wCG3Phda/s2a9%2B0rr3hfxHpdt4Y1O40nX/Ct7a2/wDa1lqsN4LM2DLHO1uZGnaNUkE5gZZUl83y231zf/DxjwXLaQ6NY/AH4h3HjWTxxeeFJPhyg0ZdThv7XTE1WYtcPqS6c0a2UsMu5LtifMCAeYronNaj%2ByB%2B0Z4n/Zf%2BJXwq16XwVbeIvib4ln8Ta3FBrl3PpkskuoQtJoMhazSRrKXTbWKzlvAokY3E7rbJhVPncn/BMr4m/wDCEQaNe/AT4G6t4VHxO1HxIn7Oeo6ncDwXpttcaNb2EaW8/wDZL5kS6iur/Z/Z6QmXUp8KsiLOwB9lfBb4teD/AI%2BfCDwt8cPh9LcvoXjDw/Z6zo73lsYZTbXMKzR70PKttcZHY9z1r4O/4JC2tx4w/b5/an8aXUR2eEvHWt%2BHLKRu63HivXb6QD6Ntz9RX2P8Df2ftY8FfskeFP2bviv491TWr7SPCFnpGs69o2u32n3M8kUSqzQ3cMyXUYBXCyeaJSoG5iSxPzV/wQ%2B%2BFtp4C0b9pDWLU3rx3X7VHjfTbOfU9SnvbmW1sdUmijaW4uHead9zS7pJHZ2ILMxJJrzcdTdXE4ZdFNyfyhK34s%2B04XxtPA5HnU38U8PClH/uJiqHN98KbT8mfctFFFekfFhRRRQAUUUUAFFFFABRRRQAUUUUAFFFFABRRRQAUUUUAFFFFABRRRQAUUUUAFFFFABRRRQAUUUUAFFFFABRRRQAUUUUAFeM/sv/APJb/wBo7/ss1j/6hXhevZq8Z/Zf/wCS3/tHf9lmsf8A1CvC9AHs1FFFABRRRQAUUUUAFFFFABRRRQAUUUUAFFFFABRRRQAUUUUAFFFFAHj3/BQc%2BOR%2Bw58WD8N/7T/tj/hAtT%2Bz/wBib/t2z7O/m/ZvL%2Bfz/K8zy9nz79u35sV82fCLxL8PNO%2BGP7T3hr/gnJr/AIag8O6l4Wmf4K2HgW6t1sLrxLF4dzeHSUhPluElfTTKYAVW5aXfiUy196UUAfG//BMs/s%2BH4x%2BPf%2BGLTpH/AAqf/hW/grzP%2BEc2/Yf%2BEq36z/aXmbOP7R%2Bx/wBkfa9373d5PmfvN9eg3%2BpfFe7/AOCm3guz8beC/D2n6Fb/AAe8cDw1qOleJ57y7v0OreEvMa5tpLKFLQjCYCTXAbccldo3fQ9fOH7R%2Br/GvR/28PhPP8Dvh/4W8Rak3wj8drd2nivxhc6LBHB/anhIl0lt9PvWd920bDGowSd%2BQFIB9H0V4z/wnH/BQv8A6Nf%2BDP8A4fjVv/mXo/4Tj/goX/0a/wDBn/w/Grf/ADL0AezUV4z/AMJx/wAFC/8Ao1/4M/8Ah%2BNW/wDmXo/4Tj/goX/0a/8ABn/w/Grf/MvQB7NRXzjpP7R37dusfGfX/gdb/sofCRdU8O%2BF9I128uX%2BOuqeRJBqNzqVvCiEeGNxdW0ucsCoADx4LEsF6j/hOP8AgoX/ANGv/Bn/AMPxq3/zL0AezUV4z/wnH/BQv/o1/wCDP/h%2BNW/%2BZej/AITj/goX/wBGv/Bn/wAPxq3/AMy9AHs1FeM/8Jx/wUL/AOjX/gz/AOH41b/5l65fwD%2B0d%2B3b8RPFfjfwho/7KHwkhuPAfiiLQtVkufjrqgSeeTStP1MPFt8MElPJ1GFSWCnejjGAGYA%2BjqK8Z/4Tj/goX/0a/wDBn/w/Grf/ADL0f8Jx/wAFC/8Ao1/4M/8Ah%2BNW/wDmXoA9morxn/hOP%2BChf/Rr/wAGf/D8at/8y9H/AAnH/BQv/o1/4M/%2BH41b/wCZegD2aivnH4RftHft2/GXwpd%2BL/Dn7KHwktrez8Ua3oUkd78ddUVzPpeq3WmTuNvhhhsaa0kZDnJRlJCnKjqP%2BE4/4KF/9Gv/AAZ/8Pxq3/zL0AezUV4z/wAJx/wUL/6Nf%2BDP/h%2BNW/8AmXo/4Tj/AIKF/wDRr/wZ/wDD8at/8y9AHs1FeM/8Jx/wUL/6Nf8Agz/4fjVv/mXrl/gj%2B0d%2B3b8ePgx4Q%2BOPhX9lD4SWul%2BM/C%2Bn67pttqHx11RZ4YLu2juI0kCeGGUOFkAYKzDIOCRzQB9HUV4z/wAJx/wUL/6Nf%2BDP/h%2BNW/8AmXo/4Tj/AIKF/wDRr/wZ/wDD8at/8y9AHs1FeM/8Jx/wUL/6Nf8Agz/4fjVv/mXrl/jd%2B0d%2B3b8B/gx4v%2BOPir9lD4SXWl%2BDPC%2Boa7qVtp/x11Rp5oLS2kuJEjD%2BGFUuVjIUMyjJGSBzQB9HUV4z/wAJx/wUL/6Nf%2BDP/h%2BNW/8AmXo/4Tj/AIKF/wDRr/wZ/wDD8at/8y9AHqeq%2BCfBmu5/tvwjpl5nr9qsI5M/99Ka5zU/2av2c9az/bHwB8E3eev2nwrZyZ/76jNcf/wnH/BQv/o1/wCDP/h%2BNW/%2BZej/AITj/goX/wBGv/Bn/wAPxq3/AMy9Zyo0Z/FFP1Sf5pnbQzLMsL/Brzh/hnOP/pM4mjqP7Cf7EerknU/2PPhdOx6vJ4A04t%2Bfk5rC1D/gmZ/wT61PP2n9jr4fLn/n38Nww/8AosCsP4u/tHft2/BrwpaeL/Ef7KHwkube88UaJoUcdl8ddUZxPqmq2umQOd3hhRsWa7jZznIRWIDHCnqP%2BE4/4KF/9Gv/AAZ/8Pxq3/zL1zyy7L5/FRg/%2B3I//Inr0eMuMMP/AAsyxMfTEV//AJccvf8A/BIz/gm7qWftH7JPhpc/8%2B7XEX/oEorGvv8Agij/AMEwdRz9o/ZXs1z/AM8PEuqxf%2BgXQr0H/hOP%2BChf/Rr/AMGf/D8at/8AMvR/wnH/AAUL/wCjX/gz/wCH41b/AOZesJZLk8t8NT/8Aj/kenS8TPEeh/DznFr0xNb/AOWM8x/4cgf8E3Lf/kEfBbVtP9PsXjvWFx/31dGl/wCHLX7FcH/IJl%2BINh6fY/iNqK4/76lNem/8Jx/wUL/6Nf8Agz/4fjVv/mXrl/H37R37dvw78V%2BCPCGsfsofCSa48eeKJdC0qS2%2BOuqFIJ49K1DUy8u7wwCE8nTplBUMd7oMYJZY/sLJemHgvSKX5WOn/iK/ia/iznEy/wAVWUv/AEpSOZH/AARx/Zzg/wCQX8aPjPZen2T4oXYx%2BeaX/h0N8Mov%2BQd%2B2B%2B0VZ%2Bn2b4szDH5xGvTf%2BE4/wCChf8A0a/8Gf8Aw/Grf/MvR/wnH/BQv/o1/wCDP/h%2BNW/%2BZej%2Bwso/58r/AMmX5TQf8RV8RXvmVR%2BqpS/9Kw8jzH/h0zpsX/IP/wCCiH7VNp6CD4wED9bY1T%2BCn7Kl3%2BzH/wAFC/Ba3P7THxU%2BIq618GfGewfE3xUNUOn%2BTq3hXP2c%2BWnl%2BZ5o39d3lR9Mc%2Btf8Jx/wUL/AOjX/gz/AOH41b/5l6oeB/A/7VnjH9qzw58bvjd8OPh74Z0bwz8PfEOhww%2BFfiHfa1dXd1qV9olwjMlxpFikUaJpcoLB3YtKgC4yRtQyrL8NVVSlC0l5z/Jza/A8/NOPuL87wM8HjsV7SnO106eHV7NNe9DDU5rVLaa7O6un7rRRRXoHx4UUUUAFFFFABXg3/BOzwrpfhj4K%2BLptODb9V%2BPPxKvrtmx80reM9YTt2Coo/Cvea%2BSv2SvFn7Z2n/D3xRZ/DH4B/DDV9CT40/EX%2Bz9R174u6jpt3Mv/AAmesljJbRaBcpEQ24ACZ8gA5BO0JxTab6FxqVIQlBPSVrrvZ3X3PU%2BtaK8Z/wCE4/4KF/8ARr/wZ/8AD8at/wDMvR/wnH/BQv8A6Nf%2BDP8A4fjVv/mXpkHs1FeM/wDCcf8ABQv/AKNf%2BDP/AIfjVv8A5l6P%2BE4/4KF/9Gv/AAZ/8Pxq3/zL0AezUV84/BH9o79u348fBjwh8cfCv7KHwktdL8Z%2BF9P13TbbUPjrqizwwXdtHcRpIE8MMocLIAwVmGQcEjmuo/4Tj/goX/0a/wDBn/w/Grf/ADL0AezUV4z/AMJx/wAFC/8Ao1/4M/8Ah%2BNW/wDmXo/4Tj/goX/0a/8ABn/w/Grf/MvQB7NRXzj8bv2jv27fgP8ABjxf8cfFX7KHwkutL8GeF9Q13UrbT/jrqjTzQWltJcSJGH8MKpcrGQoZlGSMkDmuo/4Tj/goX/0a/wDBn/w/Grf/ADL0AezUV4z/AMJx/wAFC/8Ao1/4M/8Ah%2BNW/wDmXo/4Tj/goX/0a/8ABn/w/Grf/MvQB7NRXjP/AAnH/BQv/o1/4M/%2BH41b/wCZeuX%2BLv7R37dvwa8KWni/xH%2Byh8JLm3vPFGiaFHHZfHXVGcT6pqtrpkDnd4YUbFmu42c5yEViAxwpAPo6ivGf%2BE4/4KF/9Gv/AAZ/8Pxq3/zL0f8ACcf8FC/%2BjX/gz/4fjVv/AJl6APZqK8Z/4Tj/AIKF/wDRr/wZ/wDD8at/8y9H/Ccf8FC/%2BjX/AIM/%2BH41b/5l6APZqK%2BcfH37R37dvw78V%2BCPCGsfsofCSa48eeKJdC0qS2%2BOuqFIJ49K1DUy8u7wwCE8nTplBUMd7oMYJZeo/wCE4/4KF/8ARr/wZ/8AD8at/wDMvQB7NRXjP/Ccf8FC/wDo1/4M/wDh%2BNW/%2BZej/hOP%2BChf/Rr/AMGf/D8at/8AMvQB7NRXjP8AwnH/AAUL/wCjX/gz/wCH41b/AOZeuX1b9o79u3R/jPoHwOuP2UPhI2qeIvC%2Br67Z3KfHXVPIjg065023mRyfDG4OzapAVAUghJMlSFDAH0dRXjP/AAnH/BQv/o1/4M/%2BH41b/wCZej/hOP8AgoX/ANGv/Bn/AMPxq3/zL0AezUV4z/wnH/BQv/o1/wCDP/h%2BNW/%2BZej/AITj/goX/wBGv/Bn/wAPxq3/AMy9AHs1FfOOk/tHft26x8Z9f%2BB1v%2Byh8JF1Tw74X0jXby5f466p5EkGo3OpW8KIR4Y3F1bS5ywKgAPHgsSwXqP%2BE4/4KF/9Gv8AwZ/8Pxq3/wAy9AHs1FeM/wDCcf8ABQv/AKNf%2BDP/AIfjVv8A5l6P%2BE4/4KF/9Gv/AAZ/8Pxq3/zL0AezUV4z/wAJx/wUL/6Nf%2BDP/h%2BNW/8AmXrl/AP7R37dvxE8V%2BN/CGj/ALKHwkhuPAfiiLQtVkufjrqgSeeTStP1MPFt8MElPJ1GFSWCnejjGAGYA%2BjqK8Z/4Tj/AIKF/wDRr/wZ/wDD8at/8y9H/Ccf8FC/%2BjX/AIM/%2BH41b/5l6APZq8Z/Zf8A%2BS3/ALR3/ZZrH/1CvC9H/Ccf8FC/%2BjX/AIM/%2BH41b/5l6t/srfDn40%2BD9Y%2BKHjv46aB4X0nVPH3xCi1yz0rwn4ludWt7W1i0HR9MVXuLiys2aRpNOlcqItoWRBuY5wAet0UUUAFFFFABRRRQAUUUUAFFFFABRRRQAUUUUAFFFFABRRRQAUUUUAFFFFABXyv%2B09%2B1p8XPhh8Y/FmteAfDvg%2BTwx8H/D/h%2B98anWtIuJtV1S31e/lS5gsLiO4jSy8i2s47jMkU4uZCkZEPl%2BafqivGfjP%2BxD8OPjd8Uj8TNc8c%2BKtLi1G10i18X%2BGtGurVNO8UwaXeyXtjFfLLbyTBY5ppc/Z5YDLHIYpjLGFQAHs1FFFABRRRQB8x%2BHP2lfiZD%2B3/AOKPg/8AEbWPD3hPw2viC00TwZFqPwi1lLrxjANAg1HEHiNrtdOaWO7udQAtBC8nl2kwCgs0i/TleV%2BLP2WoPH/xk0j4p%2BPfjf411fSvD2ux61oHgC4OmRaNY6hHbvBHOGhskvZdnmSSKk11JGJH3bPkQL6pQAUUUUAeL/8ABQX4u/HD9n79kfxp8evgFe%2BFI9Y8E6Fd65dQeMNFub62u7S1tpZnt0S2urZkldkRRIXKoCxKPwK8/wDHn7Wnxc8F/HjxbqfhTw74Qi%2BHnhD4x%2BEfh94ys5tIuDreq6rrsGipHqEN2lwsMccH9uaTGYpLeV5EhnxLHtQV7D%2B1j%2BzjZftafAjXv2fda%2BKvinwjpPieylsdcv8Awgunfa7mylieKa23X9pdRojq/LIiyAqNrrzni4P2AfB0/wARbP4i%2BKvjj4%2B11jrOk654m0bUJdKisfE%2BuaYkaWOrXsdtYRMtxEILTC2zQQMbG2LxMY8kA97ooooAK8X/AGyfi78cPgla%2BAfGPwsvfCn9jah8TPDnh7xfY%2BINFubm6ubXVdZsdNBs5YbqFLaSNbmWTfIk6koi7OSa9oryr9q79lt/2qvDeheF5/j7438DW%2BheJLDXUbwXDo7Pd3tjeQXlm0p1LT7wbYri3jcLGEDcrJvU7QAecfs8/tK/EzW/2qvFvwR%2BKGr%2BHvCenQ%2BKdbt/BPhKT4Razplzr1tC6Sm/t9auLv7BqDsZJpZYraAvyXYrhifpyvJdJ/ZRD/GTRfjL8R/2gPHfjWbwvd3l34T0LxCNJhsNHurm3ktZLiJbDT7aWV/s808K%2BfJKqLO%2B0AkEetUAFFFFAHh/7d3xc%2BPH7P3wa1f46/Cjxj4FsdP8LaLc3l7ovizwze39z4hvcotnplnJbXsH2ea4lIt0byrpmlniCwsflbz/AOCP7X3xn1z4l%2BCv7W8GeEtI%2BGnjf4n%2BKPht4V8Nadpc0er6Jf6BDq2%2Bee5Fw1vNBI3h/U0WGO3iMatbHzJMsB6f%2B0r%2ByDB%2B0l488EfECb9oHx34QufAN3c3ui2PhiLRp7OS9lQRreTQanp14jzwx%2BYsMgCmMTykfM2RV8B/sNfD3wH8Zbf4uw/EXxdqUGna7qevaJ4Q1K5sv7J0rW9RjePUNUgSK1Sfz5xPdlleZ4Ua%2BuTHFH5nAB7XRRRQAV8v/tc/Hj9pf4LfETT/AAppUPgDxro/jmHWrbRfhzF4PvpNYS1tNDuruS/uJxevFdWwuore2khFrED9vhQTGRkST6grw6b9ia4j/aP8V/tNaJ%2B1X8S9O1fxbpsOnXOlwweH57TT7OGBo4baza50mW5t4lld7rYs2153LuHB20AM/YQ/aD8b/Hv4e3l18V/H2jX3i7ThZtr/AIbsvhdq/hG80B57ZZRBc2Wr3U9w4Lb/AC7gBI5FQ7Q20mvdK83%2BB37N2nfBnxP4k%2BIesfFLxT448VeK4rG31jxP4uawW5e0sxN9ltUi0%2B1tbaOKNrm5cbYQzNcSFmbIx6RQAUUUUAfHP/BQT9uP4qfsYeOf7T1zRdA8Y%2BEX0bUdbt/Csvw51Oylt003Rr7Ukk/4SKa6fTJ7v7Xpo2WKwJdCOZZQNsLSN69%2BzR8Xfjnq3xU8b/s9ftHXPhTUPE/hHSdD1qPWvBWkXNhY3NjqgvI0iMFzc3LrLFcaddqX83EiGJtkZJUVvjr%2Bwl4I/ac1q6tfj/8AFvxr4o8F3MlxIvwyvJNNh0WKSaxmsmbfb2Ud9IBHcTMElunQO%2B7b8iBen/Z8/Zm0j4B3mveIrv4oeLPHHiPxIbOPVvFXjW4s3vpba0iMVraj7HbW8KxRB5WGI97PPK7s7OTQB6VRRRQAV8R/tT/tlftZ/Bv41eIPhR4O8N%2BHPGup2Gi3Gu%2BGAnwP8QRyaKBqOmWqGFvtzjxNILHVLjzv7L8p4WhKyiMTCOvtyvD9e/Yt1PxL49PxO1r9rn4oza3p8F5F4NvCmgAeFVupoZJ/skY0nZOzRwLb7r1bpliZwpV3ZyAdV%2Byx8WH%2BMnwjg8WXvxM0bxVfw6jdWWqX2jeDL7w6La4ilZWtZtN1C4nurOeMYV45nD5%2BbaoYCvRq4b4B/AXw98APDOp6NpXinW/EGo6/r1xrfiTxJ4jmga91W/mCI08ot4oYExHFDEqQxRxqkSAKMEnuaACiiigAooooAKKKKACiiigCj4o8Q2HhLw1qPivVQ5tdMsZru5ES5by40LtgdzhTXzn%2BxN%2B0n8a/H/inR/Bnxs8PeDLMeOvhbZfEbwzD4M0q4tBpkd5cE3en3ZmuJRdzRvc2z/bEEAnaWYmCPaC/0td2lrf2stje26TQzRtHNFKoZXUjBUg8EEcYryH9mb9ivwF%2BzBqr6voHxB8W%2BJZbbwxY%2BGfDo8WXtrMNA0KzeR7fTbU29vCWjUyfNLOZriQRxeZM/lrgA9iooooAK4X9qDx58RfhZ%2BzR8RPid8H/AAouveLfDngXV9U8LaG1jNdDUdRt7OWW2tjDAyyzCSVETy42DtuwpBINd1Wd4t0S/wDEvhjUPD%2Bl%2BK9R0K5vbSSG31rSFga6sXZSBNELiKWIup5AkjdMj5lYZBAPLv2Kfi1P8UPhnfWWrfELw/rOp%2BHdVXTrzTNE%2BGGp%2BDn0NBbQSRWdxpWqXM9zC4RxIrt5aPFLFsTA3v7FXnnwH/Z20n4HXniXxHc/ETxJ4x8SeL9RhvPEXinxW9mLu6MNulvBEI7G2traKKONAFWOFMlnZizMzH0OgAooooA%2BXP2qP2sfih%2Bzh8XvHFl8StG8JeIvhfYfs7%2BL/HttoVvolwmqu2iDS1ntri5kuXt5op1vpwEFshUImXfLCu3/AGZ/i/8AHzVPi54y/Z1/aWfwleeKPDHhjw94lj1XwVpNzY2Ullqz6lbrbGG5ublzLDcaRdgyiQLIjxN5cZ3LUHxj/YV8O/HT46t8ZfHnx28cy6bN4K1PwjffD2GDRf7Eu9G1Jbb7faSF9Na9Ina0gdnF0HUoQjIjMh6T9nf9l3Q/2fb7WvEc/wAUPFvjfxDr9rYWV/4n8bXNpJemwsUkWzsx9ktrePyojPcOCUMjvcyu7uzZoA9PooooAK%2BRPjX%2B0v8AtbeDNd/aA8CW/hXwZ4svfAXh/wAKeJPhtY6T8P8AU7%2BdY9R1XUoQl5axXjy6jPAumxzqbYW5LkhV%2BVWr67rwuX9ijxDF8dPG3x/0L9tD4raVq3jfSLHTLmxsrPww1ppttZXFzPZpbCXRXk/dG8ulBmeUus5EnmFUKgHV/sqfFub4y/CkeJtR%2BJ2jeKdRtdVubHVrrR/BF/4bNncRN81rPpmo3E91aTopXckzBiGVtqqwr0muE%2BAfwD0D4A6FrNjp/i3XPEeq%2BJvEEuueJ/E3iSW3a91W/khhg82QW0MMEYWC3t4VSKKNFSFAFzknu6ACiiigD42/aW/a7/aW/Z4%2BM0Hw21lPhn41vtbggm8Iw6d4WvbSXwXeal4h0zw9pE2pyvfTC6inbV5wWiWzkcWN0sYZfMMXuP7Kvxf%2BJHxGHj/4ffGI6JP4q%2BGnjxvDWs6r4a06azsNT8zS9O1a3uIbeaeeS3za6pbo8bTS4kjkwxBGOFtv%2BCavhJrr4hv4h/aX%2BJ2s2/xJ1465rFvqR0LzLPUoriGfT7m2uotLS6U2D29uLSN5pIolhQMj859Y%2BAfwF0P4B%2BHtW02y8X654k1bxFr02teJ/FHiV7Y3%2Br30kcUPnTC1gggXZBBbwIkUUaLHBGoXgkgHdUUUUAMuftP2aT7Hs87YfK83O3djjOOcZr4g%2BK37XP7afw0%2BImufDa3tvAfjPXvDF74at9W8deCPgrr%2BrR%2BHLfVmvHvbCXSrPUp7u5mjhsrG6JinT93dQtLAgMTSfb13DJcWstvDdSQPJGyrPEFLxkjAZdwK5HUZBHqDXz38GP2AvEHwE%2BG1x8NPh3%2B3V8Yoo7rVn1ObWbyy8Jz6hLdyvLJczzTPoR%2B0yTvLukknEj5jTYUAwQD1n4CfEOy%2BK3wd8P8AxCsPiBo3ipNT08SPr/h/SZrC0u5ASshS1nmmltirqyNDJI7xsrKx3KQOvrkvgX8F/CX7Pvwv074U%2BCrm/uLKwluria%2B1W5E11fXd1cy3V1dTOFUNLNcTzSvtVV3SHaqrhR1tABVHxPD4kufDeoW/g3U7Gy1eSylXS7zU7B7q2guChEcksMcsTTRq2CyLJGWAIDqTuF6s3xjoN/4o8LX/AId0vxbqWg3N5avFBrWjiA3Vi5HE0QuIpYi6nkCSN0OPmVhkUAfD3w3/AG7P2tfjB8U9b%2BCXws034fJ4z02112%2Bk8Z%2BK/hdrWhrqmmaRa6LKljLol5fJqGnyvd%2BIdiTTzPH5UMlwkLrOgP2N8Avi1pvx8%2BBPgr466NpstnZ%2BNfCWm69aWcz7ngivLWO4WNiAMlRIAT6ivFtX/wCCZHgfWtcvviLd/tKfFNPiBqyXlrrXxJtr3SIdWv8ATLq2tbabTCiaaLOG2KWVow8i2ilWSBZVlDlmP0H4L8H%2BGvh54O0nwB4M0mLT9H0PTINP0mwhzstraGNY4o1zzhUVVH0oA06KKKAOX%2BNOo%2BONG%2BFuta38OfENjperWFmbqG%2B1Dwfe%2BIESOMh5QNOsZ4Lm8kaJXVIoZA5dlwrn5G%2BLfhL/AMFEfj94k8aaHqfje48I%2BBPBmpTzr4g8cXnwM8RTW2sX8Ov3WkIlzKt9GnhmeS1tLX9xqjSSwPKsb52BK%2B2/iZ4M13x74Sm8OeG/ilr/AINvJJY3i1/wzFYvdwbWBKqt/bXMDBgCpDxNwTjBwR4rdf8ABObwpqHg%2B4%2BG2rftIfE278Ma5qE1/wCPNAmuNHEXjC7nvGuria%2BlXTRcReaWWFo7OW1iEMSRqijduAPomiiigAooooAKKKKACiiigAooooAKKKKACiiigAooooAKKKKACiiigAooooAKKKKACiiigAooooAKKKKACiiigAooooAKKKKACiiigAooooAKKKKACiiigAooooAKKKKACiiigAooooAKKKKACiiigAooooAKKKKACiiigAooooAKKKKACiiigAooooAKKKKACiiigAooooAKKKKACiiigAooooAKKKKACiiigAooooAKKKKACiiigAooooAKKKKACiiigAooooAKKKKACiiigAooooAKKKKACiiigAooooAKKKKACiiigAooooAKKKKACiiigD//2Q%3D%3D\">"
      ]
     },
     "metadata": {},
     "output_type": "display_data"
    }
   ],
   "source": [
    "s.run(tf.global_variables_initializer())\n",
    "\n",
    "BATCH_SIZE = 512\n",
    "EPOCHS = 40\n",
    "\n",
    "# for logging the progress right here in Jupyter (for those who don't have TensorBoard)\n",
    "simpleTrainingCurves = matplotlib_utils.SimpleTrainingCurves(\"cross-entropy\", \"accuracy\")\n",
    "\n",
    "for epoch in range(EPOCHS):  # we finish an epoch when we've looked at all training samples\n",
    "    \n",
    "    batch_losses = []\n",
    "    for batch_start in range(0, X_train_flat.shape[0], BATCH_SIZE):  # data is already shuffled\n",
    "        _, batch_loss = s.run([step, loss], {input_X: X_train_flat[batch_start:batch_start+BATCH_SIZE], \n",
    "                                             input_y: y_train_oh[batch_start:batch_start+BATCH_SIZE]})\n",
    "        # collect batch losses, this is almost free as we need a forward pass for backprop anyway\n",
    "        batch_losses.append(batch_loss)\n",
    "\n",
    "    train_loss = np.mean(batch_losses)\n",
    "    val_loss = s.run(loss, {input_X: X_val_flat, input_y: y_val_oh})  # this part is usually small\n",
    "    train_accuracy = accuracy_score(y_train, s.run(classes, {input_X: X_train_flat}))  # this is slow and usually skipped\n",
    "    valid_accuracy = accuracy_score(y_val, s.run(classes, {input_X: X_val_flat}))  \n",
    "    simpleTrainingCurves.add(train_loss, val_loss, train_accuracy, valid_accuracy)"
   ]
  },
  {
   "cell_type": "markdown",
   "metadata": {},
   "source": [
    "# Submit a linear model"
   ]
  },
  {
   "cell_type": "code",
   "execution_count": 54,
   "metadata": {
    "collapsed": true
   },
   "outputs": [],
   "source": [
    "## GRADED PART, DO NOT CHANGE!\n",
    "# Testing shapes \n",
    "grader.set_answer(\"9XaAS\", grading_utils.get_tensors_shapes_string([W, b, input_X, input_y, logits, probas, classes]))\n",
    "# Validation loss\n",
    "grader.set_answer(\"vmogZ\", s.run(loss, {input_X: X_val_flat, input_y: y_val_oh}))\n",
    "# Validation accuracy\n",
    "grader.set_answer(\"RMv95\", accuracy_score(y_val, s.run(classes, {input_X: X_val_flat})))"
   ]
  },
  {
   "cell_type": "code",
   "execution_count": 55,
   "metadata": {},
   "outputs": [
    {
     "name": "stdout",
     "output_type": "stream",
     "text": [
      "Submitted to Coursera platform. See results on assignment page!\n"
     ]
    }
   ],
   "source": [
    "# you can make submission with answers so far to check yourself at this stage\n",
    "grader.submit(COURSERA_EMAIL, COURSERA_TOKEN)"
   ]
  },
  {
   "cell_type": "markdown",
   "metadata": {},
   "source": [
    "# MLP with hidden layers"
   ]
  },
  {
   "cell_type": "markdown",
   "metadata": {},
   "source": [
    "Previously we've coded a dense layer with matrix multiplication by hand. \n",
    "But this is not convenient, you have to create a lot of variables and your code becomes a mess. \n",
    "In TensorFlow there's an easier way to make a dense layer:\n",
    "```python\n",
    "hidden1 = tf.layers.dense(inputs, 256, activation=tf.nn.sigmoid)\n",
    "```\n",
    "\n",
    "That will create all the necessary variables automatically.\n",
    "Here you can also choose an activation function (remember that we need it for a hidden layer!).\n",
    "\n",
    "Now define the MLP with 2 hidden layers and restart training with the cell above.\n",
    "\n",
    "You're aiming for ~0.97 validation accuracy here."
   ]
  },
  {
   "cell_type": "code",
   "execution_count": 57,
   "metadata": {
    "collapsed": true
   },
   "outputs": [],
   "source": [
    "# write the code here to get a new `step` operation and then run the cell with training loop above.\n",
    "# name your variables in the same way (e.g. logits, probas, classes, etc) for safety.\n",
    "### YOUR CODE HERE ###\n",
    "W = tf.get_variable(\"W\",shape=(784,10),dtype=tf.float32)\n",
    "b = tf.get_variable(\"b\",shape=(10,),dtype=tf.float32) \n",
    "input_X = tf.placeholder(tf.float32,shape=(None,784),name = \"input_X\")\n",
    "input_y = tf.placeholder(tf.float32,shape=(None,10),name = \"input_y\")\n",
    "layer_1 = tf.layers.dense(input_X, 256, activation=tf.nn.sigmoid)\n",
    "layer_2 = tf.layers.dense(layer_1, 256, activation=tf.nn.sigmoid)\n",
    "logits = tf.layers.dense(layer_2,10)\n",
    "probas = tf.nn.softmax(logits)\n",
    "classes = tf.argmax(probas,axis=1)\n",
    "loss = tf.reduce_mean(tf.nn.softmax_cross_entropy_with_logits(labels=input_y,logits=logits))\n",
    "step = tf.train.AdamOptimizer().minimize(loss)\n",
    "\n",
    "\n"
   ]
  },
  {
   "cell_type": "markdown",
   "metadata": {},
   "source": [
    "# Submit the MLP with 2 hidden layers\n",
    "Run these cells after training the MLP with 2 hidden layers"
   ]
  },
  {
   "cell_type": "code",
   "execution_count": 59,
   "metadata": {
    "collapsed": true
   },
   "outputs": [],
   "source": [
    "## GRADED PART, DO NOT CHANGE!\n",
    "# Validation loss for MLP\n",
    "grader.set_answer(\"i8bgs\", s.run(loss, {input_X: X_val_flat, input_y: y_val_oh}))\n",
    "# Validation accuracy for MLP\n",
    "grader.set_answer(\"rE763\", accuracy_score(y_val, s.run(classes, {input_X: X_val_flat})))"
   ]
  },
  {
   "cell_type": "code",
   "execution_count": 62,
   "metadata": {},
   "outputs": [
    {
     "name": "stdout",
     "output_type": "stream",
     "text": [
      "Submitted to Coursera platform. See results on assignment page!\n"
     ]
    }
   ],
   "source": [
    "# you can make submission with answers so far to check yourself at this stage\n",
    "grader.submit(COURSERA_EMAIL, COURSERA_TOKEN)"
   ]
  },
  {
   "cell_type": "code",
   "execution_count": null,
   "metadata": {
    "collapsed": true
   },
   "outputs": [],
   "source": []
  }
 ],
 "metadata": {
  "kernelspec": {
   "display_name": "Python 3",
   "language": "python",
   "name": "python3"
  },
  "language_info": {
   "codemirror_mode": {
    "name": "ipython",
    "version": 3
   },
   "file_extension": ".py",
   "mimetype": "text/x-python",
   "name": "python",
   "nbconvert_exporter": "python",
   "pygments_lexer": "ipython3",
   "version": "3.6.2"
  }
 },
 "nbformat": 4,
 "nbformat_minor": 1
}
